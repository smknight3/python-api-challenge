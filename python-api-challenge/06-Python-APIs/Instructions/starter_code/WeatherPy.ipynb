{
 "cells": [
  {
   "cell_type": "markdown",
   "metadata": {},
   "source": [
    "# WeatherPy\n",
    "----\n",
    "\n",
    "#### Note\n",
    "* Instructions have been included for each segment. You do not have to follow them exactly, but they are included to help you think through the steps."
   ]
  },
  {
   "cell_type": "code",
   "execution_count": 1,
   "metadata": {},
   "outputs": [
    {
     "name": "stdout",
     "output_type": "stream",
     "text": [
      "Requirement already satisfied: citipy in /opt/anaconda3/lib/python3.8/site-packages (0.0.5)\n",
      "Requirement already satisfied: kdtree>=0.12 in /opt/anaconda3/lib/python3.8/site-packages (from citipy) (0.16)\n",
      "Note: you may need to restart the kernel to use updated packages.\n"
     ]
    }
   ],
   "source": [
    "pip install citipy"
   ]
  },
  {
   "cell_type": "code",
   "execution_count": 2,
   "metadata": {
    "scrolled": true
   },
   "outputs": [],
   "source": [
    "# Dependencies and Setup\n",
    "import matplotlib.pyplot as plt\n",
    "import seaborn as sns\n",
    "import pandas as pd\n",
    "import numpy as np\n",
    "import requests\n",
    "import time\n",
    "from pprint import pprint\n",
    "import scipy.stats as sts\n",
    "from scipy.stats import linregress\n",
    "import statsmodels.api as sm\n",
    "from sklearn.linear_model import LinearRegression\n",
    "\n",
    "# Import API key\n",
    "from api_keys import weather_api_key\n",
    "\n",
    "# Incorporated citipy to determine city based on latitude and longitude\n",
    "from citipy import citipy\n",
    "\n",
    "# Output File (CSV)\n",
    "output_data_file = \"output_data/cities.csv\"\n",
    "\n",
    "# Range of latitudes and longitudes\n",
    "lat_range = (-90, 90)\n",
    "lng_range = (-180, 180)"
   ]
  },
  {
   "cell_type": "markdown",
   "metadata": {},
   "source": [
    "## Generate Cities List"
   ]
  },
  {
   "cell_type": "code",
   "execution_count": 3,
   "metadata": {},
   "outputs": [
    {
     "data": {
      "text/plain": [
       "612"
      ]
     },
     "execution_count": 3,
     "metadata": {},
     "output_type": "execute_result"
    }
   ],
   "source": [
    "# List for holding lat_lngs and cities\n",
    "lat_lngs = []\n",
    "cities = []\n",
    "\n",
    "# Create a set of random lat and lng combinations\n",
    "lats = np.random.uniform(lat_range[0], lat_range[1], size=1500)\n",
    "lngs = np.random.uniform(lng_range[0], lng_range[1], size=1500)\n",
    "lat_lngs = zip(lats, lngs)\n",
    "\n",
    "# Identify nearest city for each lat, lng combination\n",
    "for lat_lng in lat_lngs:\n",
    "    city = citipy.nearest_city(lat_lng[0], lat_lng[1]).city_name\n",
    "    \n",
    "    # If the city is unique, then add it to a our cities list\n",
    "    if city not in cities:\n",
    "        cities.append(city)\n",
    "\n",
    "# Print the city count to confirm sufficient count\n",
    "len(cities)"
   ]
  },
  {
   "cell_type": "markdown",
   "metadata": {},
   "source": [
    "### Perform API Calls\n",
    "* Perform a weather check on each city using a series of successive API calls.\n",
    "* Include a print log of each city as it'sbeing processed (with the city number and city name).\n"
   ]
  },
  {
   "cell_type": "code",
   "execution_count": 4,
   "metadata": {},
   "outputs": [
    {
     "data": {
      "text/plain": [
       "['upernavik',\n",
       " 'barentsburg',\n",
       " 'knysna',\n",
       " 'tsiroanomandidy',\n",
       " 'hilo',\n",
       " 'atuona',\n",
       " 'tumannyy',\n",
       " 'thio',\n",
       " 'torbay']"
      ]
     },
     "execution_count": 4,
     "metadata": {},
     "output_type": "execute_result"
    }
   ],
   "source": [
    "cities_sub = cities[1:10]\n",
    "cities_sub"
   ]
  },
  {
   "cell_type": "code",
   "execution_count": 5,
   "metadata": {
    "scrolled": true
   },
   "outputs": [
    {
     "name": "stdout",
     "output_type": "stream",
     "text": [
      "http://api.openweathermap.org/data/2.5/weather?q=hermanus&units=imperial&appid=0647cca2482a23061e848734de3bd290\n",
      "Got data for city index: 0 of 612\n",
      "http://api.openweathermap.org/data/2.5/weather?q=upernavik&units=imperial&appid=0647cca2482a23061e848734de3bd290\n",
      "http://api.openweathermap.org/data/2.5/weather?q=barentsburg&units=imperial&appid=0647cca2482a23061e848734de3bd290\n",
      "Missing data in OpenWeatherAPI for barentsburg\n",
      "http://api.openweathermap.org/data/2.5/weather?q=knysna&units=imperial&appid=0647cca2482a23061e848734de3bd290\n",
      "http://api.openweathermap.org/data/2.5/weather?q=tsiroanomandidy&units=imperial&appid=0647cca2482a23061e848734de3bd290\n",
      "http://api.openweathermap.org/data/2.5/weather?q=hilo&units=imperial&appid=0647cca2482a23061e848734de3bd290\n",
      "Got data for city index: 5 of 612\n",
      "http://api.openweathermap.org/data/2.5/weather?q=atuona&units=imperial&appid=0647cca2482a23061e848734de3bd290\n",
      "http://api.openweathermap.org/data/2.5/weather?q=tumannyy&units=imperial&appid=0647cca2482a23061e848734de3bd290\n",
      "Missing data in OpenWeatherAPI for tumannyy\n",
      "http://api.openweathermap.org/data/2.5/weather?q=thio&units=imperial&appid=0647cca2482a23061e848734de3bd290\n",
      "http://api.openweathermap.org/data/2.5/weather?q=torbay&units=imperial&appid=0647cca2482a23061e848734de3bd290\n",
      "http://api.openweathermap.org/data/2.5/weather?q=albany&units=imperial&appid=0647cca2482a23061e848734de3bd290\n",
      "Got data for city index: 10 of 612\n",
      "http://api.openweathermap.org/data/2.5/weather?q=punta arenas&units=imperial&appid=0647cca2482a23061e848734de3bd290\n",
      "http://api.openweathermap.org/data/2.5/weather?q=sechura&units=imperial&appid=0647cca2482a23061e848734de3bd290\n",
      "http://api.openweathermap.org/data/2.5/weather?q=lebu&units=imperial&appid=0647cca2482a23061e848734de3bd290\n",
      "http://api.openweathermap.org/data/2.5/weather?q=sisimiut&units=imperial&appid=0647cca2482a23061e848734de3bd290\n",
      "http://api.openweathermap.org/data/2.5/weather?q=dunedin&units=imperial&appid=0647cca2482a23061e848734de3bd290\n",
      "Got data for city index: 15 of 612\n",
      "http://api.openweathermap.org/data/2.5/weather?q=kalmunai&units=imperial&appid=0647cca2482a23061e848734de3bd290\n",
      "http://api.openweathermap.org/data/2.5/weather?q=mataura&units=imperial&appid=0647cca2482a23061e848734de3bd290\n",
      "http://api.openweathermap.org/data/2.5/weather?q=cape town&units=imperial&appid=0647cca2482a23061e848734de3bd290\n",
      "http://api.openweathermap.org/data/2.5/weather?q=esperance&units=imperial&appid=0647cca2482a23061e848734de3bd290\n",
      "http://api.openweathermap.org/data/2.5/weather?q=victoria&units=imperial&appid=0647cca2482a23061e848734de3bd290\n",
      "Got data for city index: 20 of 612\n",
      "http://api.openweathermap.org/data/2.5/weather?q=port elizabeth&units=imperial&appid=0647cca2482a23061e848734de3bd290\n",
      "http://api.openweathermap.org/data/2.5/weather?q=nikolskoye&units=imperial&appid=0647cca2482a23061e848734de3bd290\n",
      "http://api.openweathermap.org/data/2.5/weather?q=saskylakh&units=imperial&appid=0647cca2482a23061e848734de3bd290\n",
      "http://api.openweathermap.org/data/2.5/weather?q=arraial do cabo&units=imperial&appid=0647cca2482a23061e848734de3bd290\n",
      "http://api.openweathermap.org/data/2.5/weather?q=avarua&units=imperial&appid=0647cca2482a23061e848734de3bd290\n",
      "Got data for city index: 25 of 612\n",
      "http://api.openweathermap.org/data/2.5/weather?q=kodiak&units=imperial&appid=0647cca2482a23061e848734de3bd290\n",
      "http://api.openweathermap.org/data/2.5/weather?q=harper&units=imperial&appid=0647cca2482a23061e848734de3bd290\n",
      "http://api.openweathermap.org/data/2.5/weather?q=san francisco&units=imperial&appid=0647cca2482a23061e848734de3bd290\n",
      "http://api.openweathermap.org/data/2.5/weather?q=urdzhar&units=imperial&appid=0647cca2482a23061e848734de3bd290\n",
      "Missing data in OpenWeatherAPI for urdzhar\n",
      "http://api.openweathermap.org/data/2.5/weather?q=ngukurr&units=imperial&appid=0647cca2482a23061e848734de3bd290\n",
      "Missing data in OpenWeatherAPI for ngukurr\n",
      "Got data for city index: 30 of 612\n",
      "http://api.openweathermap.org/data/2.5/weather?q=rikitea&units=imperial&appid=0647cca2482a23061e848734de3bd290\n",
      "http://api.openweathermap.org/data/2.5/weather?q=hithadhoo&units=imperial&appid=0647cca2482a23061e848734de3bd290\n",
      "http://api.openweathermap.org/data/2.5/weather?q=vysokaya gora&units=imperial&appid=0647cca2482a23061e848734de3bd290\n",
      "http://api.openweathermap.org/data/2.5/weather?q=houston&units=imperial&appid=0647cca2482a23061e848734de3bd290\n",
      "http://api.openweathermap.org/data/2.5/weather?q=kuloy&units=imperial&appid=0647cca2482a23061e848734de3bd290\n",
      "Got data for city index: 35 of 612\n",
      "http://api.openweathermap.org/data/2.5/weather?q=alice springs&units=imperial&appid=0647cca2482a23061e848734de3bd290\n",
      "http://api.openweathermap.org/data/2.5/weather?q=georgetown&units=imperial&appid=0647cca2482a23061e848734de3bd290\n",
      "http://api.openweathermap.org/data/2.5/weather?q=san quintin&units=imperial&appid=0647cca2482a23061e848734de3bd290\n",
      "http://api.openweathermap.org/data/2.5/weather?q=grindavik&units=imperial&appid=0647cca2482a23061e848734de3bd290\n",
      "http://api.openweathermap.org/data/2.5/weather?q=praia da vitoria&units=imperial&appid=0647cca2482a23061e848734de3bd290\n",
      "Got data for city index: 40 of 612\n",
      "http://api.openweathermap.org/data/2.5/weather?q=ushuaia&units=imperial&appid=0647cca2482a23061e848734de3bd290\n",
      "http://api.openweathermap.org/data/2.5/weather?q=busselton&units=imperial&appid=0647cca2482a23061e848734de3bd290\n",
      "http://api.openweathermap.org/data/2.5/weather?q=bredasdorp&units=imperial&appid=0647cca2482a23061e848734de3bd290\n",
      "http://api.openweathermap.org/data/2.5/weather?q=shubarkuduk&units=imperial&appid=0647cca2482a23061e848734de3bd290\n",
      "http://api.openweathermap.org/data/2.5/weather?q=richards bay&units=imperial&appid=0647cca2482a23061e848734de3bd290\n",
      "Got data for city index: 45 of 612\n",
      "http://api.openweathermap.org/data/2.5/weather?q=koumac&units=imperial&appid=0647cca2482a23061e848734de3bd290\n",
      "http://api.openweathermap.org/data/2.5/weather?q=cabo san lucas&units=imperial&appid=0647cca2482a23061e848734de3bd290\n",
      "http://api.openweathermap.org/data/2.5/weather?q=yar-sale&units=imperial&appid=0647cca2482a23061e848734de3bd290\n",
      "http://api.openweathermap.org/data/2.5/weather?q=margate&units=imperial&appid=0647cca2482a23061e848734de3bd290\n",
      "http://api.openweathermap.org/data/2.5/weather?q=naze&units=imperial&appid=0647cca2482a23061e848734de3bd290\n",
      "Got data for city index: 50 of 612\n",
      "http://api.openweathermap.org/data/2.5/weather?q=aykhal&units=imperial&appid=0647cca2482a23061e848734de3bd290\n",
      "http://api.openweathermap.org/data/2.5/weather?q=taolanaro&units=imperial&appid=0647cca2482a23061e848734de3bd290\n",
      "Missing data in OpenWeatherAPI for taolanaro\n",
      "http://api.openweathermap.org/data/2.5/weather?q=yermakovskoye&units=imperial&appid=0647cca2482a23061e848734de3bd290\n",
      "http://api.openweathermap.org/data/2.5/weather?q=bluff&units=imperial&appid=0647cca2482a23061e848734de3bd290\n",
      "http://api.openweathermap.org/data/2.5/weather?q=pochutla&units=imperial&appid=0647cca2482a23061e848734de3bd290\n",
      "Got data for city index: 55 of 612\n",
      "http://api.openweathermap.org/data/2.5/weather?q=mar del plata&units=imperial&appid=0647cca2482a23061e848734de3bd290\n",
      "http://api.openweathermap.org/data/2.5/weather?q=bambous virieux&units=imperial&appid=0647cca2482a23061e848734de3bd290\n",
      "http://api.openweathermap.org/data/2.5/weather?q=radis&units=imperial&appid=0647cca2482a23061e848734de3bd290\n",
      "http://api.openweathermap.org/data/2.5/weather?q=binga&units=imperial&appid=0647cca2482a23061e848734de3bd290\n",
      "http://api.openweathermap.org/data/2.5/weather?q=gisborne&units=imperial&appid=0647cca2482a23061e848734de3bd290\n",
      "Got data for city index: 60 of 612\n",
      "http://api.openweathermap.org/data/2.5/weather?q=noumea&units=imperial&appid=0647cca2482a23061e848734de3bd290\n",
      "http://api.openweathermap.org/data/2.5/weather?q=vadlapudi&units=imperial&appid=0647cca2482a23061e848734de3bd290\n",
      "http://api.openweathermap.org/data/2.5/weather?q=ponta do sol&units=imperial&appid=0647cca2482a23061e848734de3bd290\n",
      "http://api.openweathermap.org/data/2.5/weather?q=helena&units=imperial&appid=0647cca2482a23061e848734de3bd290\n",
      "http://api.openweathermap.org/data/2.5/weather?q=chumikan&units=imperial&appid=0647cca2482a23061e848734de3bd290\n",
      "Got data for city index: 65 of 612\n",
      "http://api.openweathermap.org/data/2.5/weather?q=port alfred&units=imperial&appid=0647cca2482a23061e848734de3bd290\n"
     ]
    },
    {
     "name": "stdout",
     "output_type": "stream",
     "text": [
      "http://api.openweathermap.org/data/2.5/weather?q=lasa&units=imperial&appid=0647cca2482a23061e848734de3bd290\n",
      "http://api.openweathermap.org/data/2.5/weather?q=acari&units=imperial&appid=0647cca2482a23061e848734de3bd290\n",
      "http://api.openweathermap.org/data/2.5/weather?q=dhidhdhoo&units=imperial&appid=0647cca2482a23061e848734de3bd290\n",
      "http://api.openweathermap.org/data/2.5/weather?q=kapaa&units=imperial&appid=0647cca2482a23061e848734de3bd290\n",
      "Got data for city index: 70 of 612\n",
      "http://api.openweathermap.org/data/2.5/weather?q=phalaborwa&units=imperial&appid=0647cca2482a23061e848734de3bd290\n",
      "http://api.openweathermap.org/data/2.5/weather?q=chegdomyn&units=imperial&appid=0647cca2482a23061e848734de3bd290\n",
      "http://api.openweathermap.org/data/2.5/weather?q=bethel&units=imperial&appid=0647cca2482a23061e848734de3bd290\n",
      "http://api.openweathermap.org/data/2.5/weather?q=voznesenye&units=imperial&appid=0647cca2482a23061e848734de3bd290\n",
      "http://api.openweathermap.org/data/2.5/weather?q=lakatoro&units=imperial&appid=0647cca2482a23061e848734de3bd290\n",
      "Got data for city index: 75 of 612\n",
      "http://api.openweathermap.org/data/2.5/weather?q=gold coast&units=imperial&appid=0647cca2482a23061e848734de3bd290\n",
      "http://api.openweathermap.org/data/2.5/weather?q=sola&units=imperial&appid=0647cca2482a23061e848734de3bd290\n",
      "http://api.openweathermap.org/data/2.5/weather?q=ancud&units=imperial&appid=0647cca2482a23061e848734de3bd290\n",
      "http://api.openweathermap.org/data/2.5/weather?q=rocha&units=imperial&appid=0647cca2482a23061e848734de3bd290\n",
      "http://api.openweathermap.org/data/2.5/weather?q=awbari&units=imperial&appid=0647cca2482a23061e848734de3bd290\n",
      "Got data for city index: 80 of 612\n",
      "http://api.openweathermap.org/data/2.5/weather?q=sao miguel&units=imperial&appid=0647cca2482a23061e848734de3bd290\n",
      "http://api.openweathermap.org/data/2.5/weather?q=megara&units=imperial&appid=0647cca2482a23061e848734de3bd290\n",
      "http://api.openweathermap.org/data/2.5/weather?q=ribeira grande&units=imperial&appid=0647cca2482a23061e848734de3bd290\n",
      "http://api.openweathermap.org/data/2.5/weather?q=jamestown&units=imperial&appid=0647cca2482a23061e848734de3bd290\n",
      "http://api.openweathermap.org/data/2.5/weather?q=chokurdakh&units=imperial&appid=0647cca2482a23061e848734de3bd290\n",
      "Got data for city index: 85 of 612\n",
      "http://api.openweathermap.org/data/2.5/weather?q=amderma&units=imperial&appid=0647cca2482a23061e848734de3bd290\n",
      "Missing data in OpenWeatherAPI for amderma\n",
      "http://api.openweathermap.org/data/2.5/weather?q=fortuna&units=imperial&appid=0647cca2482a23061e848734de3bd290\n",
      "http://api.openweathermap.org/data/2.5/weather?q=saleaula&units=imperial&appid=0647cca2482a23061e848734de3bd290\n",
      "Missing data in OpenWeatherAPI for saleaula\n",
      "http://api.openweathermap.org/data/2.5/weather?q=mahibadhoo&units=imperial&appid=0647cca2482a23061e848734de3bd290\n",
      "http://api.openweathermap.org/data/2.5/weather?q=faanui&units=imperial&appid=0647cca2482a23061e848734de3bd290\n",
      "Got data for city index: 90 of 612\n",
      "http://api.openweathermap.org/data/2.5/weather?q=fort saint james&units=imperial&appid=0647cca2482a23061e848734de3bd290\n",
      "http://api.openweathermap.org/data/2.5/weather?q=tuktoyaktuk&units=imperial&appid=0647cca2482a23061e848734de3bd290\n",
      "http://api.openweathermap.org/data/2.5/weather?q=sao joao da barra&units=imperial&appid=0647cca2482a23061e848734de3bd290\n",
      "http://api.openweathermap.org/data/2.5/weather?q=kaoma&units=imperial&appid=0647cca2482a23061e848734de3bd290\n",
      "http://api.openweathermap.org/data/2.5/weather?q=kamenka&units=imperial&appid=0647cca2482a23061e848734de3bd290\n",
      "Got data for city index: 95 of 612\n",
      "http://api.openweathermap.org/data/2.5/weather?q=new norfolk&units=imperial&appid=0647cca2482a23061e848734de3bd290\n",
      "http://api.openweathermap.org/data/2.5/weather?q=beya&units=imperial&appid=0647cca2482a23061e848734de3bd290\n",
      "http://api.openweathermap.org/data/2.5/weather?q=tsihombe&units=imperial&appid=0647cca2482a23061e848734de3bd290\n",
      "Missing data in OpenWeatherAPI for tsihombe\n",
      "http://api.openweathermap.org/data/2.5/weather?q=dikson&units=imperial&appid=0647cca2482a23061e848734de3bd290\n",
      "http://api.openweathermap.org/data/2.5/weather?q=cherskiy&units=imperial&appid=0647cca2482a23061e848734de3bd290\n",
      "Got data for city index: 100 of 612\n",
      "http://api.openweathermap.org/data/2.5/weather?q=vaini&units=imperial&appid=0647cca2482a23061e848734de3bd290\n",
      "http://api.openweathermap.org/data/2.5/weather?q=pacific grove&units=imperial&appid=0647cca2482a23061e848734de3bd290\n",
      "http://api.openweathermap.org/data/2.5/weather?q=taldan&units=imperial&appid=0647cca2482a23061e848734de3bd290\n",
      "http://api.openweathermap.org/data/2.5/weather?q=padang&units=imperial&appid=0647cca2482a23061e848734de3bd290\n",
      "http://api.openweathermap.org/data/2.5/weather?q=nizhneyansk&units=imperial&appid=0647cca2482a23061e848734de3bd290\n",
      "Missing data in OpenWeatherAPI for nizhneyansk\n",
      "Got data for city index: 105 of 612\n",
      "http://api.openweathermap.org/data/2.5/weather?q=nanortalik&units=imperial&appid=0647cca2482a23061e848734de3bd290\n",
      "http://api.openweathermap.org/data/2.5/weather?q=barrow&units=imperial&appid=0647cca2482a23061e848734de3bd290\n",
      "http://api.openweathermap.org/data/2.5/weather?q=sorong&units=imperial&appid=0647cca2482a23061e848734de3bd290\n",
      "http://api.openweathermap.org/data/2.5/weather?q=tura&units=imperial&appid=0647cca2482a23061e848734de3bd290\n",
      "http://api.openweathermap.org/data/2.5/weather?q=aginskoye&units=imperial&appid=0647cca2482a23061e848734de3bd290\n",
      "Got data for city index: 110 of 612\n",
      "http://api.openweathermap.org/data/2.5/weather?q=callaway&units=imperial&appid=0647cca2482a23061e848734de3bd290\n",
      "http://api.openweathermap.org/data/2.5/weather?q=goudomp&units=imperial&appid=0647cca2482a23061e848734de3bd290\n",
      "Missing data in OpenWeatherAPI for goudomp\n",
      "http://api.openweathermap.org/data/2.5/weather?q=visnes&units=imperial&appid=0647cca2482a23061e848734de3bd290\n",
      "http://api.openweathermap.org/data/2.5/weather?q=malinyi&units=imperial&appid=0647cca2482a23061e848734de3bd290\n",
      "http://api.openweathermap.org/data/2.5/weather?q=kaitangata&units=imperial&appid=0647cca2482a23061e848734de3bd290\n",
      "Got data for city index: 115 of 612\n",
      "http://api.openweathermap.org/data/2.5/weather?q=kamyshevatskaya&units=imperial&appid=0647cca2482a23061e848734de3bd290\n",
      "http://api.openweathermap.org/data/2.5/weather?q=birao&units=imperial&appid=0647cca2482a23061e848734de3bd290\n",
      "http://api.openweathermap.org/data/2.5/weather?q=hasaki&units=imperial&appid=0647cca2482a23061e848734de3bd290\n",
      "http://api.openweathermap.org/data/2.5/weather?q=chuy&units=imperial&appid=0647cca2482a23061e848734de3bd290\n",
      "http://api.openweathermap.org/data/2.5/weather?q=kavaratti&units=imperial&appid=0647cca2482a23061e848734de3bd290\n",
      "Got data for city index: 120 of 612\n",
      "http://api.openweathermap.org/data/2.5/weather?q=ulaanbaatar&units=imperial&appid=0647cca2482a23061e848734de3bd290\n",
      "http://api.openweathermap.org/data/2.5/weather?q=mokhsogollokh&units=imperial&appid=0647cca2482a23061e848734de3bd290\n",
      "http://api.openweathermap.org/data/2.5/weather?q=luderitz&units=imperial&appid=0647cca2482a23061e848734de3bd290\n",
      "http://api.openweathermap.org/data/2.5/weather?q=fort nelson&units=imperial&appid=0647cca2482a23061e848734de3bd290\n",
      "http://api.openweathermap.org/data/2.5/weather?q=tuatapere&units=imperial&appid=0647cca2482a23061e848734de3bd290\n",
      "Got data for city index: 125 of 612\n",
      "http://api.openweathermap.org/data/2.5/weather?q=moree&units=imperial&appid=0647cca2482a23061e848734de3bd290\n",
      "http://api.openweathermap.org/data/2.5/weather?q=castro&units=imperial&appid=0647cca2482a23061e848734de3bd290\n",
      "http://api.openweathermap.org/data/2.5/weather?q=puerto ayora&units=imperial&appid=0647cca2482a23061e848734de3bd290\n",
      "http://api.openweathermap.org/data/2.5/weather?q=sosnogorsk&units=imperial&appid=0647cca2482a23061e848734de3bd290\n",
      "http://api.openweathermap.org/data/2.5/weather?q=jumla&units=imperial&appid=0647cca2482a23061e848734de3bd290\n",
      "Got data for city index: 130 of 612\n",
      "http://api.openweathermap.org/data/2.5/weather?q=mys shmidta&units=imperial&appid=0647cca2482a23061e848734de3bd290\n",
      "Missing data in OpenWeatherAPI for mys shmidta\n",
      "http://api.openweathermap.org/data/2.5/weather?q=grand river south east&units=imperial&appid=0647cca2482a23061e848734de3bd290\n",
      "Missing data in OpenWeatherAPI for grand river south east\n"
     ]
    },
    {
     "name": "stdout",
     "output_type": "stream",
     "text": [
      "http://api.openweathermap.org/data/2.5/weather?q=kruisfontein&units=imperial&appid=0647cca2482a23061e848734de3bd290\n",
      "http://api.openweathermap.org/data/2.5/weather?q=norman wells&units=imperial&appid=0647cca2482a23061e848734de3bd290\n",
      "http://api.openweathermap.org/data/2.5/weather?q=hami&units=imperial&appid=0647cca2482a23061e848734de3bd290\n",
      "Got data for city index: 135 of 612\n",
      "http://api.openweathermap.org/data/2.5/weather?q=sobolevo&units=imperial&appid=0647cca2482a23061e848734de3bd290\n",
      "http://api.openweathermap.org/data/2.5/weather?q=suntar&units=imperial&appid=0647cca2482a23061e848734de3bd290\n",
      "http://api.openweathermap.org/data/2.5/weather?q=progreso&units=imperial&appid=0647cca2482a23061e848734de3bd290\n",
      "http://api.openweathermap.org/data/2.5/weather?q=robertsport&units=imperial&appid=0647cca2482a23061e848734de3bd290\n",
      "http://api.openweathermap.org/data/2.5/weather?q=cockburn town&units=imperial&appid=0647cca2482a23061e848734de3bd290\n",
      "Got data for city index: 140 of 612\n",
      "http://api.openweathermap.org/data/2.5/weather?q=la paz&units=imperial&appid=0647cca2482a23061e848734de3bd290\n",
      "http://api.openweathermap.org/data/2.5/weather?q=la ronge&units=imperial&appid=0647cca2482a23061e848734de3bd290\n",
      "http://api.openweathermap.org/data/2.5/weather?q=ilinskiy&units=imperial&appid=0647cca2482a23061e848734de3bd290\n",
      "http://api.openweathermap.org/data/2.5/weather?q=warrington&units=imperial&appid=0647cca2482a23061e848734de3bd290\n",
      "http://api.openweathermap.org/data/2.5/weather?q=port moresby&units=imperial&appid=0647cca2482a23061e848734de3bd290\n",
      "Got data for city index: 145 of 612\n",
      "http://api.openweathermap.org/data/2.5/weather?q=libreville&units=imperial&appid=0647cca2482a23061e848734de3bd290\n",
      "http://api.openweathermap.org/data/2.5/weather?q=fairbanks&units=imperial&appid=0647cca2482a23061e848734de3bd290\n",
      "http://api.openweathermap.org/data/2.5/weather?q=yellowknife&units=imperial&appid=0647cca2482a23061e848734de3bd290\n",
      "http://api.openweathermap.org/data/2.5/weather?q=ahipara&units=imperial&appid=0647cca2482a23061e848734de3bd290\n",
      "http://api.openweathermap.org/data/2.5/weather?q=meyungs&units=imperial&appid=0647cca2482a23061e848734de3bd290\n",
      "Missing data in OpenWeatherAPI for meyungs\n",
      "Got data for city index: 150 of 612\n",
      "http://api.openweathermap.org/data/2.5/weather?q=leirvik&units=imperial&appid=0647cca2482a23061e848734de3bd290\n",
      "http://api.openweathermap.org/data/2.5/weather?q=ureki&units=imperial&appid=0647cca2482a23061e848734de3bd290\n",
      "http://api.openweathermap.org/data/2.5/weather?q=harer&units=imperial&appid=0647cca2482a23061e848734de3bd290\n",
      "http://api.openweathermap.org/data/2.5/weather?q=okha&units=imperial&appid=0647cca2482a23061e848734de3bd290\n",
      "http://api.openweathermap.org/data/2.5/weather?q=madaba&units=imperial&appid=0647cca2482a23061e848734de3bd290\n",
      "Got data for city index: 155 of 612\n",
      "http://api.openweathermap.org/data/2.5/weather?q=tecpan&units=imperial&appid=0647cca2482a23061e848734de3bd290\n",
      "http://api.openweathermap.org/data/2.5/weather?q=saint-philippe&units=imperial&appid=0647cca2482a23061e848734de3bd290\n",
      "http://api.openweathermap.org/data/2.5/weather?q=kahului&units=imperial&appid=0647cca2482a23061e848734de3bd290\n",
      "http://api.openweathermap.org/data/2.5/weather?q=provideniya&units=imperial&appid=0647cca2482a23061e848734de3bd290\n",
      "http://api.openweathermap.org/data/2.5/weather?q=northam&units=imperial&appid=0647cca2482a23061e848734de3bd290\n",
      "Got data for city index: 160 of 612\n",
      "http://api.openweathermap.org/data/2.5/weather?q=palabuhanratu&units=imperial&appid=0647cca2482a23061e848734de3bd290\n",
      "Missing data in OpenWeatherAPI for palabuhanratu\n",
      "http://api.openweathermap.org/data/2.5/weather?q=den helder&units=imperial&appid=0647cca2482a23061e848734de3bd290\n",
      "http://api.openweathermap.org/data/2.5/weather?q=balkhash&units=imperial&appid=0647cca2482a23061e848734de3bd290\n",
      "http://api.openweathermap.org/data/2.5/weather?q=leshukonskoye&units=imperial&appid=0647cca2482a23061e848734de3bd290\n",
      "http://api.openweathermap.org/data/2.5/weather?q=berlevag&units=imperial&appid=0647cca2482a23061e848734de3bd290\n",
      "Got data for city index: 165 of 612\n",
      "http://api.openweathermap.org/data/2.5/weather?q=senador guiomard&units=imperial&appid=0647cca2482a23061e848734de3bd290\n",
      "http://api.openweathermap.org/data/2.5/weather?q=nago&units=imperial&appid=0647cca2482a23061e848734de3bd290\n",
      "http://api.openweathermap.org/data/2.5/weather?q=saint-francois&units=imperial&appid=0647cca2482a23061e848734de3bd290\n",
      "http://api.openweathermap.org/data/2.5/weather?q=kathmandu&units=imperial&appid=0647cca2482a23061e848734de3bd290\n",
      "http://api.openweathermap.org/data/2.5/weather?q=de-kastri&units=imperial&appid=0647cca2482a23061e848734de3bd290\n",
      "Got data for city index: 170 of 612\n",
      "http://api.openweathermap.org/data/2.5/weather?q=attawapiskat&units=imperial&appid=0647cca2482a23061e848734de3bd290\n",
      "Missing data in OpenWeatherAPI for attawapiskat\n",
      "http://api.openweathermap.org/data/2.5/weather?q=severo-kurilsk&units=imperial&appid=0647cca2482a23061e848734de3bd290\n",
      "http://api.openweathermap.org/data/2.5/weather?q=aktash&units=imperial&appid=0647cca2482a23061e848734de3bd290\n",
      "http://api.openweathermap.org/data/2.5/weather?q=port hawkesbury&units=imperial&appid=0647cca2482a23061e848734de3bd290\n",
      "http://api.openweathermap.org/data/2.5/weather?q=kirkland lake&units=imperial&appid=0647cca2482a23061e848734de3bd290\n",
      "Got data for city index: 175 of 612\n",
      "http://api.openweathermap.org/data/2.5/weather?q=codrington&units=imperial&appid=0647cca2482a23061e848734de3bd290\n",
      "http://api.openweathermap.org/data/2.5/weather?q=bengkulu&units=imperial&appid=0647cca2482a23061e848734de3bd290\n",
      "http://api.openweathermap.org/data/2.5/weather?q=oudtshoorn&units=imperial&appid=0647cca2482a23061e848734de3bd290\n",
      "http://api.openweathermap.org/data/2.5/weather?q=marawi&units=imperial&appid=0647cca2482a23061e848734de3bd290\n",
      "http://api.openweathermap.org/data/2.5/weather?q=rudno&units=imperial&appid=0647cca2482a23061e848734de3bd290\n",
      "Got data for city index: 180 of 612\n",
      "http://api.openweathermap.org/data/2.5/weather?q=vardo&units=imperial&appid=0647cca2482a23061e848734de3bd290\n",
      "http://api.openweathermap.org/data/2.5/weather?q=guerrero negro&units=imperial&appid=0647cca2482a23061e848734de3bd290\n",
      "http://api.openweathermap.org/data/2.5/weather?q=kavieng&units=imperial&appid=0647cca2482a23061e848734de3bd290\n",
      "http://api.openweathermap.org/data/2.5/weather?q=abha&units=imperial&appid=0647cca2482a23061e848734de3bd290\n",
      "http://api.openweathermap.org/data/2.5/weather?q=loiza&units=imperial&appid=0647cca2482a23061e848734de3bd290\n",
      "Got data for city index: 185 of 612\n",
      "http://api.openweathermap.org/data/2.5/weather?q=haibowan&units=imperial&appid=0647cca2482a23061e848734de3bd290\n",
      "Missing data in OpenWeatherAPI for haibowan\n",
      "http://api.openweathermap.org/data/2.5/weather?q=orlik&units=imperial&appid=0647cca2482a23061e848734de3bd290\n",
      "http://api.openweathermap.org/data/2.5/weather?q=carnarvon&units=imperial&appid=0647cca2482a23061e848734de3bd290\n",
      "http://api.openweathermap.org/data/2.5/weather?q=port lincoln&units=imperial&appid=0647cca2482a23061e848734de3bd290\n",
      "http://api.openweathermap.org/data/2.5/weather?q=butaritari&units=imperial&appid=0647cca2482a23061e848734de3bd290\n",
      "Got data for city index: 190 of 612\n",
      "http://api.openweathermap.org/data/2.5/weather?q=talnakh&units=imperial&appid=0647cca2482a23061e848734de3bd290\n",
      "http://api.openweathermap.org/data/2.5/weather?q=mananjary&units=imperial&appid=0647cca2482a23061e848734de3bd290\n",
      "http://api.openweathermap.org/data/2.5/weather?q=mayo&units=imperial&appid=0647cca2482a23061e848734de3bd290\n",
      "http://api.openweathermap.org/data/2.5/weather?q=narsaq&units=imperial&appid=0647cca2482a23061e848734de3bd290\n",
      "http://api.openweathermap.org/data/2.5/weather?q=klyuchi&units=imperial&appid=0647cca2482a23061e848734de3bd290\n",
      "Got data for city index: 195 of 612\n",
      "http://api.openweathermap.org/data/2.5/weather?q=mahebourg&units=imperial&appid=0647cca2482a23061e848734de3bd290\n",
      "http://api.openweathermap.org/data/2.5/weather?q=puerto leguizamo&units=imperial&appid=0647cca2482a23061e848734de3bd290\n",
      "http://api.openweathermap.org/data/2.5/weather?q=dauriya&units=imperial&appid=0647cca2482a23061e848734de3bd290\n",
      "http://api.openweathermap.org/data/2.5/weather?q=sitka&units=imperial&appid=0647cca2482a23061e848734de3bd290\n"
     ]
    },
    {
     "name": "stdout",
     "output_type": "stream",
     "text": [
      "http://api.openweathermap.org/data/2.5/weather?q=henties bay&units=imperial&appid=0647cca2482a23061e848734de3bd290\n",
      "Got data for city index: 200 of 612\n",
      "http://api.openweathermap.org/data/2.5/weather?q=itacare&units=imperial&appid=0647cca2482a23061e848734de3bd290\n",
      "http://api.openweathermap.org/data/2.5/weather?q=igarka&units=imperial&appid=0647cca2482a23061e848734de3bd290\n",
      "http://api.openweathermap.org/data/2.5/weather?q=lata&units=imperial&appid=0647cca2482a23061e848734de3bd290\n",
      "http://api.openweathermap.org/data/2.5/weather?q=bassar&units=imperial&appid=0647cca2482a23061e848734de3bd290\n",
      "http://api.openweathermap.org/data/2.5/weather?q=quang ngai&units=imperial&appid=0647cca2482a23061e848734de3bd290\n",
      "Got data for city index: 205 of 612\n",
      "http://api.openweathermap.org/data/2.5/weather?q=agadez&units=imperial&appid=0647cca2482a23061e848734de3bd290\n",
      "http://api.openweathermap.org/data/2.5/weather?q=sandpoint&units=imperial&appid=0647cca2482a23061e848734de3bd290\n",
      "http://api.openweathermap.org/data/2.5/weather?q=broken hill&units=imperial&appid=0647cca2482a23061e848734de3bd290\n",
      "http://api.openweathermap.org/data/2.5/weather?q=gerash&units=imperial&appid=0647cca2482a23061e848734de3bd290\n",
      "http://api.openweathermap.org/data/2.5/weather?q=thomastown&units=imperial&appid=0647cca2482a23061e848734de3bd290\n",
      "Got data for city index: 210 of 612\n",
      "http://api.openweathermap.org/data/2.5/weather?q=chicama&units=imperial&appid=0647cca2482a23061e848734de3bd290\n",
      "http://api.openweathermap.org/data/2.5/weather?q=novaya malykla&units=imperial&appid=0647cca2482a23061e848734de3bd290\n",
      "http://api.openweathermap.org/data/2.5/weather?q=mecca&units=imperial&appid=0647cca2482a23061e848734de3bd290\n",
      "http://api.openweathermap.org/data/2.5/weather?q=san roque&units=imperial&appid=0647cca2482a23061e848734de3bd290\n",
      "http://api.openweathermap.org/data/2.5/weather?q=faya&units=imperial&appid=0647cca2482a23061e848734de3bd290\n",
      "Got data for city index: 215 of 612\n",
      "http://api.openweathermap.org/data/2.5/weather?q=preston&units=imperial&appid=0647cca2482a23061e848734de3bd290\n",
      "http://api.openweathermap.org/data/2.5/weather?q=zhangjiakou&units=imperial&appid=0647cca2482a23061e848734de3bd290\n",
      "http://api.openweathermap.org/data/2.5/weather?q=hobart&units=imperial&appid=0647cca2482a23061e848734de3bd290\n",
      "http://api.openweathermap.org/data/2.5/weather?q=pevek&units=imperial&appid=0647cca2482a23061e848734de3bd290\n",
      "http://api.openweathermap.org/data/2.5/weather?q=qui nhon&units=imperial&appid=0647cca2482a23061e848734de3bd290\n",
      "Got data for city index: 220 of 612\n",
      "http://api.openweathermap.org/data/2.5/weather?q=chyhyryn&units=imperial&appid=0647cca2482a23061e848734de3bd290\n",
      "http://api.openweathermap.org/data/2.5/weather?q=osakarovka&units=imperial&appid=0647cca2482a23061e848734de3bd290\n",
      "http://api.openweathermap.org/data/2.5/weather?q=wanaka&units=imperial&appid=0647cca2482a23061e848734de3bd290\n",
      "http://api.openweathermap.org/data/2.5/weather?q=hirado&units=imperial&appid=0647cca2482a23061e848734de3bd290\n",
      "http://api.openweathermap.org/data/2.5/weather?q=mount gambier&units=imperial&appid=0647cca2482a23061e848734de3bd290\n",
      "Got data for city index: 225 of 612\n",
      "http://api.openweathermap.org/data/2.5/weather?q=khatanga&units=imperial&appid=0647cca2482a23061e848734de3bd290\n",
      "http://api.openweathermap.org/data/2.5/weather?q=quatre cocos&units=imperial&appid=0647cca2482a23061e848734de3bd290\n",
      "http://api.openweathermap.org/data/2.5/weather?q=dehloran&units=imperial&appid=0647cca2482a23061e848734de3bd290\n",
      "http://api.openweathermap.org/data/2.5/weather?q=tiksi&units=imperial&appid=0647cca2482a23061e848734de3bd290\n",
      "http://api.openweathermap.org/data/2.5/weather?q=mao&units=imperial&appid=0647cca2482a23061e848734de3bd290\n",
      "Got data for city index: 230 of 612\n",
      "http://api.openweathermap.org/data/2.5/weather?q=egvekinot&units=imperial&appid=0647cca2482a23061e848734de3bd290\n",
      "http://api.openweathermap.org/data/2.5/weather?q=boyolangu&units=imperial&appid=0647cca2482a23061e848734de3bd290\n",
      "http://api.openweathermap.org/data/2.5/weather?q=sinnamary&units=imperial&appid=0647cca2482a23061e848734de3bd290\n",
      "http://api.openweathermap.org/data/2.5/weather?q=jurm&units=imperial&appid=0647cca2482a23061e848734de3bd290\n",
      "http://api.openweathermap.org/data/2.5/weather?q=swan hill&units=imperial&appid=0647cca2482a23061e848734de3bd290\n",
      "Got data for city index: 235 of 612\n",
      "http://api.openweathermap.org/data/2.5/weather?q=miandrivazo&units=imperial&appid=0647cca2482a23061e848734de3bd290\n",
      "http://api.openweathermap.org/data/2.5/weather?q=cidreira&units=imperial&appid=0647cca2482a23061e848734de3bd290\n",
      "http://api.openweathermap.org/data/2.5/weather?q=thompson&units=imperial&appid=0647cca2482a23061e848734de3bd290\n",
      "http://api.openweathermap.org/data/2.5/weather?q=saint-pierre&units=imperial&appid=0647cca2482a23061e848734de3bd290\n",
      "http://api.openweathermap.org/data/2.5/weather?q=khonuu&units=imperial&appid=0647cca2482a23061e848734de3bd290\n",
      "Missing data in OpenWeatherAPI for khonuu\n",
      "Got data for city index: 240 of 612\n",
      "http://api.openweathermap.org/data/2.5/weather?q=xai-xai&units=imperial&appid=0647cca2482a23061e848734de3bd290\n",
      "http://api.openweathermap.org/data/2.5/weather?q=tasiilaq&units=imperial&appid=0647cca2482a23061e848734de3bd290\n",
      "http://api.openweathermap.org/data/2.5/weather?q=umea&units=imperial&appid=0647cca2482a23061e848734de3bd290\n",
      "http://api.openweathermap.org/data/2.5/weather?q=olinda&units=imperial&appid=0647cca2482a23061e848734de3bd290\n",
      "http://api.openweathermap.org/data/2.5/weather?q=yamethin&units=imperial&appid=0647cca2482a23061e848734de3bd290\n",
      "Got data for city index: 245 of 612\n",
      "http://api.openweathermap.org/data/2.5/weather?q=kysyl-syr&units=imperial&appid=0647cca2482a23061e848734de3bd290\n",
      "http://api.openweathermap.org/data/2.5/weather?q=souillac&units=imperial&appid=0647cca2482a23061e848734de3bd290\n",
      "http://api.openweathermap.org/data/2.5/weather?q=bilma&units=imperial&appid=0647cca2482a23061e848734de3bd290\n",
      "http://api.openweathermap.org/data/2.5/weather?q=russell&units=imperial&appid=0647cca2482a23061e848734de3bd290\n",
      "http://api.openweathermap.org/data/2.5/weather?q=carutapera&units=imperial&appid=0647cca2482a23061e848734de3bd290\n",
      "Got data for city index: 250 of 612\n",
      "http://api.openweathermap.org/data/2.5/weather?q=east london&units=imperial&appid=0647cca2482a23061e848734de3bd290\n",
      "http://api.openweathermap.org/data/2.5/weather?q=tieli&units=imperial&appid=0647cca2482a23061e848734de3bd290\n",
      "http://api.openweathermap.org/data/2.5/weather?q=makat&units=imperial&appid=0647cca2482a23061e848734de3bd290\n",
      "http://api.openweathermap.org/data/2.5/weather?q=illoqqortoormiut&units=imperial&appid=0647cca2482a23061e848734de3bd290\n",
      "Missing data in OpenWeatherAPI for illoqqortoormiut\n",
      "http://api.openweathermap.org/data/2.5/weather?q=dingle&units=imperial&appid=0647cca2482a23061e848734de3bd290\n",
      "Got data for city index: 255 of 612\n",
      "http://api.openweathermap.org/data/2.5/weather?q=srivardhan&units=imperial&appid=0647cca2482a23061e848734de3bd290\n",
      "http://api.openweathermap.org/data/2.5/weather?q=mullaitivu&units=imperial&appid=0647cca2482a23061e848734de3bd290\n",
      "Missing data in OpenWeatherAPI for mullaitivu\n",
      "http://api.openweathermap.org/data/2.5/weather?q=lagoa&units=imperial&appid=0647cca2482a23061e848734de3bd290\n",
      "http://api.openweathermap.org/data/2.5/weather?q=kieta&units=imperial&appid=0647cca2482a23061e848734de3bd290\n",
      "http://api.openweathermap.org/data/2.5/weather?q=fare&units=imperial&appid=0647cca2482a23061e848734de3bd290\n",
      "Got data for city index: 260 of 612\n",
      "http://api.openweathermap.org/data/2.5/weather?q=samusu&units=imperial&appid=0647cca2482a23061e848734de3bd290\n",
      "Missing data in OpenWeatherAPI for samusu\n",
      "http://api.openweathermap.org/data/2.5/weather?q=usak&units=imperial&appid=0647cca2482a23061e848734de3bd290\n",
      "http://api.openweathermap.org/data/2.5/weather?q=saint-joseph&units=imperial&appid=0647cca2482a23061e848734de3bd290\n",
      "http://api.openweathermap.org/data/2.5/weather?q=aporawan&units=imperial&appid=0647cca2482a23061e848734de3bd290\n",
      "Missing data in OpenWeatherAPI for aporawan\n",
      "http://api.openweathermap.org/data/2.5/weather?q=sabibah&units=imperial&appid=0647cca2482a23061e848734de3bd290\n",
      "Missing data in OpenWeatherAPI for sabibah\n",
      "Got data for city index: 265 of 612\n",
      "http://api.openweathermap.org/data/2.5/weather?q=kalomo&units=imperial&appid=0647cca2482a23061e848734de3bd290\n",
      "Missing data in OpenWeatherAPI for kalomo\n"
     ]
    },
    {
     "name": "stdout",
     "output_type": "stream",
     "text": [
      "http://api.openweathermap.org/data/2.5/weather?q=seymchan&units=imperial&appid=0647cca2482a23061e848734de3bd290\n",
      "http://api.openweathermap.org/data/2.5/weather?q=kirakira&units=imperial&appid=0647cca2482a23061e848734de3bd290\n",
      "http://api.openweathermap.org/data/2.5/weather?q=gobabis&units=imperial&appid=0647cca2482a23061e848734de3bd290\n",
      "http://api.openweathermap.org/data/2.5/weather?q=kamenskoye&units=imperial&appid=0647cca2482a23061e848734de3bd290\n",
      "Missing data in OpenWeatherAPI for kamenskoye\n",
      "Got data for city index: 270 of 612\n",
      "http://api.openweathermap.org/data/2.5/weather?q=flin flon&units=imperial&appid=0647cca2482a23061e848734de3bd290\n",
      "http://api.openweathermap.org/data/2.5/weather?q=klaksvik&units=imperial&appid=0647cca2482a23061e848734de3bd290\n",
      "http://api.openweathermap.org/data/2.5/weather?q=ust-barguzin&units=imperial&appid=0647cca2482a23061e848734de3bd290\n",
      "http://api.openweathermap.org/data/2.5/weather?q=mazamari&units=imperial&appid=0647cca2482a23061e848734de3bd290\n",
      "http://api.openweathermap.org/data/2.5/weather?q=leningradskiy&units=imperial&appid=0647cca2482a23061e848734de3bd290\n",
      "Got data for city index: 275 of 612\n",
      "http://api.openweathermap.org/data/2.5/weather?q=adrar&units=imperial&appid=0647cca2482a23061e848734de3bd290\n",
      "http://api.openweathermap.org/data/2.5/weather?q=iskateley&units=imperial&appid=0647cca2482a23061e848734de3bd290\n",
      "http://api.openweathermap.org/data/2.5/weather?q=berga&units=imperial&appid=0647cca2482a23061e848734de3bd290\n",
      "http://api.openweathermap.org/data/2.5/weather?q=harbour breton&units=imperial&appid=0647cca2482a23061e848734de3bd290\n",
      "http://api.openweathermap.org/data/2.5/weather?q=ukiah&units=imperial&appid=0647cca2482a23061e848734de3bd290\n",
      "Got data for city index: 280 of 612\n",
      "http://api.openweathermap.org/data/2.5/weather?q=beloha&units=imperial&appid=0647cca2482a23061e848734de3bd290\n",
      "http://api.openweathermap.org/data/2.5/weather?q=marau&units=imperial&appid=0647cca2482a23061e848734de3bd290\n",
      "http://api.openweathermap.org/data/2.5/weather?q=nishihara&units=imperial&appid=0647cca2482a23061e848734de3bd290\n",
      "http://api.openweathermap.org/data/2.5/weather?q=sao filipe&units=imperial&appid=0647cca2482a23061e848734de3bd290\n",
      "http://api.openweathermap.org/data/2.5/weather?q=markapur&units=imperial&appid=0647cca2482a23061e848734de3bd290\n",
      "Got data for city index: 285 of 612\n",
      "http://api.openweathermap.org/data/2.5/weather?q=safaga&units=imperial&appid=0647cca2482a23061e848734de3bd290\n",
      "http://api.openweathermap.org/data/2.5/weather?q=palu&units=imperial&appid=0647cca2482a23061e848734de3bd290\n",
      "http://api.openweathermap.org/data/2.5/weather?q=praia&units=imperial&appid=0647cca2482a23061e848734de3bd290\n",
      "http://api.openweathermap.org/data/2.5/weather?q=dodola&units=imperial&appid=0647cca2482a23061e848734de3bd290\n",
      "http://api.openweathermap.org/data/2.5/weather?q=bako&units=imperial&appid=0647cca2482a23061e848734de3bd290\n",
      "Got data for city index: 290 of 612\n",
      "http://api.openweathermap.org/data/2.5/weather?q=lompoc&units=imperial&appid=0647cca2482a23061e848734de3bd290\n",
      "http://api.openweathermap.org/data/2.5/weather?q=vaitupu&units=imperial&appid=0647cca2482a23061e848734de3bd290\n",
      "Missing data in OpenWeatherAPI for vaitupu\n",
      "http://api.openweathermap.org/data/2.5/weather?q=tiznit&units=imperial&appid=0647cca2482a23061e848734de3bd290\n",
      "http://api.openweathermap.org/data/2.5/weather?q=obo&units=imperial&appid=0647cca2482a23061e848734de3bd290\n",
      "http://api.openweathermap.org/data/2.5/weather?q=emba&units=imperial&appid=0647cca2482a23061e848734de3bd290\n",
      "Got data for city index: 295 of 612\n",
      "http://api.openweathermap.org/data/2.5/weather?q=vostok&units=imperial&appid=0647cca2482a23061e848734de3bd290\n",
      "http://api.openweathermap.org/data/2.5/weather?q=kushima&units=imperial&appid=0647cca2482a23061e848734de3bd290\n",
      "http://api.openweathermap.org/data/2.5/weather?q=chkalovskoye&units=imperial&appid=0647cca2482a23061e848734de3bd290\n",
      "http://api.openweathermap.org/data/2.5/weather?q=anta&units=imperial&appid=0647cca2482a23061e848734de3bd290\n",
      "http://api.openweathermap.org/data/2.5/weather?q=phon&units=imperial&appid=0647cca2482a23061e848734de3bd290\n",
      "Got data for city index: 300 of 612\n",
      "http://api.openweathermap.org/data/2.5/weather?q=belushya guba&units=imperial&appid=0647cca2482a23061e848734de3bd290\n",
      "Missing data in OpenWeatherAPI for belushya guba\n",
      "http://api.openweathermap.org/data/2.5/weather?q=aranos&units=imperial&appid=0647cca2482a23061e848734de3bd290\n",
      "http://api.openweathermap.org/data/2.5/weather?q=longyearbyen&units=imperial&appid=0647cca2482a23061e848734de3bd290\n",
      "http://api.openweathermap.org/data/2.5/weather?q=kununurra&units=imperial&appid=0647cca2482a23061e848734de3bd290\n",
      "http://api.openweathermap.org/data/2.5/weather?q=kyshtym&units=imperial&appid=0647cca2482a23061e848734de3bd290\n",
      "Got data for city index: 305 of 612\n",
      "http://api.openweathermap.org/data/2.5/weather?q=besikduzu&units=imperial&appid=0647cca2482a23061e848734de3bd290\n",
      "http://api.openweathermap.org/data/2.5/weather?q=vryheid&units=imperial&appid=0647cca2482a23061e848734de3bd290\n",
      "http://api.openweathermap.org/data/2.5/weather?q=nanchong&units=imperial&appid=0647cca2482a23061e848734de3bd290\n",
      "http://api.openweathermap.org/data/2.5/weather?q=cayenne&units=imperial&appid=0647cca2482a23061e848734de3bd290\n",
      "http://api.openweathermap.org/data/2.5/weather?q=nueva concepcion&units=imperial&appid=0647cca2482a23061e848734de3bd290\n",
      "Got data for city index: 310 of 612\n",
      "http://api.openweathermap.org/data/2.5/weather?q=ilulissat&units=imperial&appid=0647cca2482a23061e848734de3bd290\n",
      "http://api.openweathermap.org/data/2.5/weather?q=tongchuan&units=imperial&appid=0647cca2482a23061e848734de3bd290\n",
      "http://api.openweathermap.org/data/2.5/weather?q=mogok&units=imperial&appid=0647cca2482a23061e848734de3bd290\n",
      "http://api.openweathermap.org/data/2.5/weather?q=te anau&units=imperial&appid=0647cca2482a23061e848734de3bd290\n",
      "http://api.openweathermap.org/data/2.5/weather?q=tanout&units=imperial&appid=0647cca2482a23061e848734de3bd290\n",
      "Got data for city index: 315 of 612\n",
      "http://api.openweathermap.org/data/2.5/weather?q=salinas&units=imperial&appid=0647cca2482a23061e848734de3bd290\n",
      "http://api.openweathermap.org/data/2.5/weather?q=santa vitoria do palmar&units=imperial&appid=0647cca2482a23061e848734de3bd290\n",
      "http://api.openweathermap.org/data/2.5/weather?q=launceston&units=imperial&appid=0647cca2482a23061e848734de3bd290\n",
      "http://api.openweathermap.org/data/2.5/weather?q=garden city&units=imperial&appid=0647cca2482a23061e848734de3bd290\n",
      "http://api.openweathermap.org/data/2.5/weather?q=tabas&units=imperial&appid=0647cca2482a23061e848734de3bd290\n",
      "Got data for city index: 320 of 612\n",
      "http://api.openweathermap.org/data/2.5/weather?q=araouane&units=imperial&appid=0647cca2482a23061e848734de3bd290\n",
      "http://api.openweathermap.org/data/2.5/weather?q=paignton&units=imperial&appid=0647cca2482a23061e848734de3bd290\n",
      "http://api.openweathermap.org/data/2.5/weather?q=necochea&units=imperial&appid=0647cca2482a23061e848734de3bd290\n",
      "http://api.openweathermap.org/data/2.5/weather?q=tadine&units=imperial&appid=0647cca2482a23061e848734de3bd290\n",
      "http://api.openweathermap.org/data/2.5/weather?q=karratha&units=imperial&appid=0647cca2482a23061e848734de3bd290\n",
      "Got data for city index: 325 of 612\n",
      "http://api.openweathermap.org/data/2.5/weather?q=paramonga&units=imperial&appid=0647cca2482a23061e848734de3bd290\n",
      "http://api.openweathermap.org/data/2.5/weather?q=pokaran&units=imperial&appid=0647cca2482a23061e848734de3bd290\n",
      "http://api.openweathermap.org/data/2.5/weather?q=ixtapa&units=imperial&appid=0647cca2482a23061e848734de3bd290\n",
      "http://api.openweathermap.org/data/2.5/weather?q=rio verde de mato grosso&units=imperial&appid=0647cca2482a23061e848734de3bd290\n",
      "http://api.openweathermap.org/data/2.5/weather?q=sayyan&units=imperial&appid=0647cca2482a23061e848734de3bd290\n",
      "Got data for city index: 330 of 612\n",
      "http://api.openweathermap.org/data/2.5/weather?q=black river&units=imperial&appid=0647cca2482a23061e848734de3bd290\n",
      "http://api.openweathermap.org/data/2.5/weather?q=avera&units=imperial&appid=0647cca2482a23061e848734de3bd290\n",
      "http://api.openweathermap.org/data/2.5/weather?q=meulaboh&units=imperial&appid=0647cca2482a23061e848734de3bd290\n",
      "http://api.openweathermap.org/data/2.5/weather?q=santa lucia&units=imperial&appid=0647cca2482a23061e848734de3bd290\n"
     ]
    },
    {
     "name": "stdout",
     "output_type": "stream",
     "text": [
      "http://api.openweathermap.org/data/2.5/weather?q=los llanos de aridane&units=imperial&appid=0647cca2482a23061e848734de3bd290\n",
      "Got data for city index: 335 of 612\n",
      "http://api.openweathermap.org/data/2.5/weather?q=vagur&units=imperial&appid=0647cca2482a23061e848734de3bd290\n",
      "http://api.openweathermap.org/data/2.5/weather?q=santa rosa&units=imperial&appid=0647cca2482a23061e848734de3bd290\n",
      "http://api.openweathermap.org/data/2.5/weather?q=polyarnyy&units=imperial&appid=0647cca2482a23061e848734de3bd290\n",
      "http://api.openweathermap.org/data/2.5/weather?q=alofi&units=imperial&appid=0647cca2482a23061e848734de3bd290\n",
      "http://api.openweathermap.org/data/2.5/weather?q=burnie&units=imperial&appid=0647cca2482a23061e848734de3bd290\n",
      "Got data for city index: 340 of 612\n",
      "http://api.openweathermap.org/data/2.5/weather?q=antalya&units=imperial&appid=0647cca2482a23061e848734de3bd290\n",
      "http://api.openweathermap.org/data/2.5/weather?q=zeya&units=imperial&appid=0647cca2482a23061e848734de3bd290\n",
      "http://api.openweathermap.org/data/2.5/weather?q=qaqortoq&units=imperial&appid=0647cca2482a23061e848734de3bd290\n",
      "http://api.openweathermap.org/data/2.5/weather?q=namibe&units=imperial&appid=0647cca2482a23061e848734de3bd290\n",
      "http://api.openweathermap.org/data/2.5/weather?q=zhanaozen&units=imperial&appid=0647cca2482a23061e848734de3bd290\n",
      "Got data for city index: 345 of 612\n",
      "http://api.openweathermap.org/data/2.5/weather?q=novonikolayevskiy&units=imperial&appid=0647cca2482a23061e848734de3bd290\n",
      "http://api.openweathermap.org/data/2.5/weather?q=touros&units=imperial&appid=0647cca2482a23061e848734de3bd290\n",
      "http://api.openweathermap.org/data/2.5/weather?q=lahti&units=imperial&appid=0647cca2482a23061e848734de3bd290\n",
      "http://api.openweathermap.org/data/2.5/weather?q=edelira&units=imperial&appid=0647cca2482a23061e848734de3bd290\n",
      "http://api.openweathermap.org/data/2.5/weather?q=rabo de peixe&units=imperial&appid=0647cca2482a23061e848734de3bd290\n",
      "Got data for city index: 350 of 612\n",
      "http://api.openweathermap.org/data/2.5/weather?q=aksarka&units=imperial&appid=0647cca2482a23061e848734de3bd290\n",
      "http://api.openweathermap.org/data/2.5/weather?q=thinadhoo&units=imperial&appid=0647cca2482a23061e848734de3bd290\n",
      "http://api.openweathermap.org/data/2.5/weather?q=marcona&units=imperial&appid=0647cca2482a23061e848734de3bd290\n",
      "Missing data in OpenWeatherAPI for marcona\n",
      "http://api.openweathermap.org/data/2.5/weather?q=san blas&units=imperial&appid=0647cca2482a23061e848734de3bd290\n",
      "http://api.openweathermap.org/data/2.5/weather?q=kenai&units=imperial&appid=0647cca2482a23061e848734de3bd290\n",
      "Got data for city index: 355 of 612\n",
      "http://api.openweathermap.org/data/2.5/weather?q=salalah&units=imperial&appid=0647cca2482a23061e848734de3bd290\n",
      "http://api.openweathermap.org/data/2.5/weather?q=san patricio&units=imperial&appid=0647cca2482a23061e848734de3bd290\n",
      "http://api.openweathermap.org/data/2.5/weather?q=charters towers&units=imperial&appid=0647cca2482a23061e848734de3bd290\n",
      "http://api.openweathermap.org/data/2.5/weather?q=port hardy&units=imperial&appid=0647cca2482a23061e848734de3bd290\n",
      "http://api.openweathermap.org/data/2.5/weather?q=mancio lima&units=imperial&appid=0647cca2482a23061e848734de3bd290\n",
      "Got data for city index: 360 of 612\n",
      "http://api.openweathermap.org/data/2.5/weather?q=aklavik&units=imperial&appid=0647cca2482a23061e848734de3bd290\n",
      "http://api.openweathermap.org/data/2.5/weather?q=carndonagh&units=imperial&appid=0647cca2482a23061e848734de3bd290\n",
      "http://api.openweathermap.org/data/2.5/weather?q=mountain home&units=imperial&appid=0647cca2482a23061e848734de3bd290\n",
      "http://api.openweathermap.org/data/2.5/weather?q=ciudad guayana&units=imperial&appid=0647cca2482a23061e848734de3bd290\n",
      "http://api.openweathermap.org/data/2.5/weather?q=gympie&units=imperial&appid=0647cca2482a23061e848734de3bd290\n",
      "Got data for city index: 365 of 612\n",
      "http://api.openweathermap.org/data/2.5/weather?q=tabou&units=imperial&appid=0647cca2482a23061e848734de3bd290\n",
      "http://api.openweathermap.org/data/2.5/weather?q=fereydun kenar&units=imperial&appid=0647cca2482a23061e848734de3bd290\n",
      "http://api.openweathermap.org/data/2.5/weather?q=banmo&units=imperial&appid=0647cca2482a23061e848734de3bd290\n",
      "Missing data in OpenWeatherAPI for banmo\n",
      "http://api.openweathermap.org/data/2.5/weather?q=amahai&units=imperial&appid=0647cca2482a23061e848734de3bd290\n",
      "http://api.openweathermap.org/data/2.5/weather?q=mitchell&units=imperial&appid=0647cca2482a23061e848734de3bd290\n",
      "Got data for city index: 370 of 612\n",
      "http://api.openweathermap.org/data/2.5/weather?q=sumbe&units=imperial&appid=0647cca2482a23061e848734de3bd290\n",
      "http://api.openweathermap.org/data/2.5/weather?q=farafangana&units=imperial&appid=0647cca2482a23061e848734de3bd290\n",
      "http://api.openweathermap.org/data/2.5/weather?q=sentyabrskiy&units=imperial&appid=0647cca2482a23061e848734de3bd290\n",
      "Missing data in OpenWeatherAPI for sentyabrskiy\n",
      "http://api.openweathermap.org/data/2.5/weather?q=champerico&units=imperial&appid=0647cca2482a23061e848734de3bd290\n",
      "http://api.openweathermap.org/data/2.5/weather?q=saint george&units=imperial&appid=0647cca2482a23061e848734de3bd290\n",
      "Got data for city index: 375 of 612\n",
      "http://api.openweathermap.org/data/2.5/weather?q=kaduna&units=imperial&appid=0647cca2482a23061e848734de3bd290\n",
      "http://api.openweathermap.org/data/2.5/weather?q=opole lubelskie&units=imperial&appid=0647cca2482a23061e848734de3bd290\n",
      "http://api.openweathermap.org/data/2.5/weather?q=arman&units=imperial&appid=0647cca2482a23061e848734de3bd290\n",
      "http://api.openweathermap.org/data/2.5/weather?q=labutta&units=imperial&appid=0647cca2482a23061e848734de3bd290\n",
      "Missing data in OpenWeatherAPI for labutta\n",
      "http://api.openweathermap.org/data/2.5/weather?q=clyde river&units=imperial&appid=0647cca2482a23061e848734de3bd290\n",
      "Got data for city index: 380 of 612\n",
      "http://api.openweathermap.org/data/2.5/weather?q=kapit&units=imperial&appid=0647cca2482a23061e848734de3bd290\n",
      "http://api.openweathermap.org/data/2.5/weather?q=novosokolniki&units=imperial&appid=0647cca2482a23061e848734de3bd290\n",
      "http://api.openweathermap.org/data/2.5/weather?q=udachnyy&units=imperial&appid=0647cca2482a23061e848734de3bd290\n",
      "http://api.openweathermap.org/data/2.5/weather?q=paamiut&units=imperial&appid=0647cca2482a23061e848734de3bd290\n",
      "http://api.openweathermap.org/data/2.5/weather?q=maniitsoq&units=imperial&appid=0647cca2482a23061e848734de3bd290\n",
      "Got data for city index: 385 of 612\n",
      "http://api.openweathermap.org/data/2.5/weather?q=gharb&units=imperial&appid=0647cca2482a23061e848734de3bd290\n",
      "Missing data in OpenWeatherAPI for gharb\n",
      "http://api.openweathermap.org/data/2.5/weather?q=olafsvik&units=imperial&appid=0647cca2482a23061e848734de3bd290\n",
      "http://api.openweathermap.org/data/2.5/weather?q=san ramon&units=imperial&appid=0647cca2482a23061e848734de3bd290\n",
      "http://api.openweathermap.org/data/2.5/weather?q=atar&units=imperial&appid=0647cca2482a23061e848734de3bd290\n",
      "http://api.openweathermap.org/data/2.5/weather?q=alenquer&units=imperial&appid=0647cca2482a23061e848734de3bd290\n",
      "Got data for city index: 390 of 612\n",
      "http://api.openweathermap.org/data/2.5/weather?q=isoka&units=imperial&appid=0647cca2482a23061e848734de3bd290\n",
      "http://api.openweathermap.org/data/2.5/weather?q=hobyo&units=imperial&appid=0647cca2482a23061e848734de3bd290\n",
      "http://api.openweathermap.org/data/2.5/weather?q=porto novo&units=imperial&appid=0647cca2482a23061e848734de3bd290\n",
      "http://api.openweathermap.org/data/2.5/weather?q=sarankhola&units=imperial&appid=0647cca2482a23061e848734de3bd290\n",
      "http://api.openweathermap.org/data/2.5/weather?q=qaanaaq&units=imperial&appid=0647cca2482a23061e848734de3bd290\n",
      "Got data for city index: 395 of 612\n",
      "http://api.openweathermap.org/data/2.5/weather?q=gornyy&units=imperial&appid=0647cca2482a23061e848734de3bd290\n",
      "http://api.openweathermap.org/data/2.5/weather?q=axim&units=imperial&appid=0647cca2482a23061e848734de3bd290\n",
      "http://api.openweathermap.org/data/2.5/weather?q=pemangkat&units=imperial&appid=0647cca2482a23061e848734de3bd290\n",
      "http://api.openweathermap.org/data/2.5/weather?q=sorland&units=imperial&appid=0647cca2482a23061e848734de3bd290\n",
      "http://api.openweathermap.org/data/2.5/weather?q=alindao&units=imperial&appid=0647cca2482a23061e848734de3bd290\n",
      "Got data for city index: 400 of 612\n",
      "http://api.openweathermap.org/data/2.5/weather?q=kerki&units=imperial&appid=0647cca2482a23061e848734de3bd290\n"
     ]
    },
    {
     "name": "stdout",
     "output_type": "stream",
     "text": [
      "Missing data in OpenWeatherAPI for kerki\n",
      "http://api.openweathermap.org/data/2.5/weather?q=coihaique&units=imperial&appid=0647cca2482a23061e848734de3bd290\n",
      "http://api.openweathermap.org/data/2.5/weather?q=acarau&units=imperial&appid=0647cca2482a23061e848734de3bd290\n",
      "http://api.openweathermap.org/data/2.5/weather?q=zerbst&units=imperial&appid=0647cca2482a23061e848734de3bd290\n",
      "http://api.openweathermap.org/data/2.5/weather?q=flateby&units=imperial&appid=0647cca2482a23061e848734de3bd290\n",
      "Got data for city index: 405 of 612\n",
      "http://api.openweathermap.org/data/2.5/weather?q=myre&units=imperial&appid=0647cca2482a23061e848734de3bd290\n",
      "http://api.openweathermap.org/data/2.5/weather?q=entre rios&units=imperial&appid=0647cca2482a23061e848734de3bd290\n",
      "http://api.openweathermap.org/data/2.5/weather?q=kazalinsk&units=imperial&appid=0647cca2482a23061e848734de3bd290\n",
      "Missing data in OpenWeatherAPI for kazalinsk\n",
      "http://api.openweathermap.org/data/2.5/weather?q=santiago&units=imperial&appid=0647cca2482a23061e848734de3bd290\n",
      "http://api.openweathermap.org/data/2.5/weather?q=artyk&units=imperial&appid=0647cca2482a23061e848734de3bd290\n",
      "Missing data in OpenWeatherAPI for artyk\n",
      "Got data for city index: 410 of 612\n",
      "http://api.openweathermap.org/data/2.5/weather?q=lebedinyy&units=imperial&appid=0647cca2482a23061e848734de3bd290\n",
      "http://api.openweathermap.org/data/2.5/weather?q=caravelas&units=imperial&appid=0647cca2482a23061e848734de3bd290\n",
      "http://api.openweathermap.org/data/2.5/weather?q=estreito&units=imperial&appid=0647cca2482a23061e848734de3bd290\n",
      "http://api.openweathermap.org/data/2.5/weather?q=umzimvubu&units=imperial&appid=0647cca2482a23061e848734de3bd290\n",
      "Missing data in OpenWeatherAPI for umzimvubu\n",
      "http://api.openweathermap.org/data/2.5/weather?q=matara&units=imperial&appid=0647cca2482a23061e848734de3bd290\n",
      "Got data for city index: 415 of 612\n",
      "http://api.openweathermap.org/data/2.5/weather?q=pangnirtung&units=imperial&appid=0647cca2482a23061e848734de3bd290\n",
      "http://api.openweathermap.org/data/2.5/weather?q=iqaluit&units=imperial&appid=0647cca2482a23061e848734de3bd290\n",
      "http://api.openweathermap.org/data/2.5/weather?q=powassan&units=imperial&appid=0647cca2482a23061e848734de3bd290\n",
      "http://api.openweathermap.org/data/2.5/weather?q=xinyu&units=imperial&appid=0647cca2482a23061e848734de3bd290\n",
      "http://api.openweathermap.org/data/2.5/weather?q=agadir&units=imperial&appid=0647cca2482a23061e848734de3bd290\n",
      "Got data for city index: 420 of 612\n",
      "http://api.openweathermap.org/data/2.5/weather?q=mehamn&units=imperial&appid=0647cca2482a23061e848734de3bd290\n",
      "http://api.openweathermap.org/data/2.5/weather?q=manggar&units=imperial&appid=0647cca2482a23061e848734de3bd290\n",
      "http://api.openweathermap.org/data/2.5/weather?q=zhoucheng&units=imperial&appid=0647cca2482a23061e848734de3bd290\n",
      "http://api.openweathermap.org/data/2.5/weather?q=buraydah&units=imperial&appid=0647cca2482a23061e848734de3bd290\n",
      "http://api.openweathermap.org/data/2.5/weather?q=pangai&units=imperial&appid=0647cca2482a23061e848734de3bd290\n",
      "Got data for city index: 425 of 612\n",
      "http://api.openweathermap.org/data/2.5/weather?q=uyuni&units=imperial&appid=0647cca2482a23061e848734de3bd290\n",
      "http://api.openweathermap.org/data/2.5/weather?q=puerto penasco&units=imperial&appid=0647cca2482a23061e848734de3bd290\n",
      "http://api.openweathermap.org/data/2.5/weather?q=bismarck&units=imperial&appid=0647cca2482a23061e848734de3bd290\n",
      "http://api.openweathermap.org/data/2.5/weather?q=astoria&units=imperial&appid=0647cca2482a23061e848734de3bd290\n",
      "http://api.openweathermap.org/data/2.5/weather?q=santa isabel&units=imperial&appid=0647cca2482a23061e848734de3bd290\n",
      "Got data for city index: 430 of 612\n",
      "http://api.openweathermap.org/data/2.5/weather?q=hueyapan&units=imperial&appid=0647cca2482a23061e848734de3bd290\n",
      "http://api.openweathermap.org/data/2.5/weather?q=itarema&units=imperial&appid=0647cca2482a23061e848734de3bd290\n",
      "http://api.openweathermap.org/data/2.5/weather?q=seminole&units=imperial&appid=0647cca2482a23061e848734de3bd290\n",
      "http://api.openweathermap.org/data/2.5/weather?q=chipinge&units=imperial&appid=0647cca2482a23061e848734de3bd290\n",
      "http://api.openweathermap.org/data/2.5/weather?q=malindi&units=imperial&appid=0647cca2482a23061e848734de3bd290\n",
      "Got data for city index: 435 of 612\n",
      "http://api.openweathermap.org/data/2.5/weather?q=shenjiamen&units=imperial&appid=0647cca2482a23061e848734de3bd290\n",
      "http://api.openweathermap.org/data/2.5/weather?q=punta de piedra&units=imperial&appid=0647cca2482a23061e848734de3bd290\n",
      "http://api.openweathermap.org/data/2.5/weather?q=shenxian&units=imperial&appid=0647cca2482a23061e848734de3bd290\n",
      "http://api.openweathermap.org/data/2.5/weather?q=dicabisagan&units=imperial&appid=0647cca2482a23061e848734de3bd290\n",
      "http://api.openweathermap.org/data/2.5/weather?q=moron&units=imperial&appid=0647cca2482a23061e848734de3bd290\n",
      "Got data for city index: 440 of 612\n",
      "http://api.openweathermap.org/data/2.5/weather?q=aksu&units=imperial&appid=0647cca2482a23061e848734de3bd290\n",
      "http://api.openweathermap.org/data/2.5/weather?q=salta&units=imperial&appid=0647cca2482a23061e848734de3bd290\n",
      "http://api.openweathermap.org/data/2.5/weather?q=prince rupert&units=imperial&appid=0647cca2482a23061e848734de3bd290\n",
      "http://api.openweathermap.org/data/2.5/weather?q=zhicheng&units=imperial&appid=0647cca2482a23061e848734de3bd290\n",
      "http://api.openweathermap.org/data/2.5/weather?q=christiana&units=imperial&appid=0647cca2482a23061e848734de3bd290\n",
      "Got data for city index: 445 of 612\n",
      "http://api.openweathermap.org/data/2.5/weather?q=vallenar&units=imperial&appid=0647cca2482a23061e848734de3bd290\n",
      "http://api.openweathermap.org/data/2.5/weather?q=kabinda&units=imperial&appid=0647cca2482a23061e848734de3bd290\n",
      "http://api.openweathermap.org/data/2.5/weather?q=gravdal&units=imperial&appid=0647cca2482a23061e848734de3bd290\n",
      "http://api.openweathermap.org/data/2.5/weather?q=bandar-e lengeh&units=imperial&appid=0647cca2482a23061e848734de3bd290\n",
      "http://api.openweathermap.org/data/2.5/weather?q=adre&units=imperial&appid=0647cca2482a23061e848734de3bd290\n",
      "Got data for city index: 450 of 612\n",
      "http://api.openweathermap.org/data/2.5/weather?q=sangar&units=imperial&appid=0647cca2482a23061e848734de3bd290\n",
      "http://api.openweathermap.org/data/2.5/weather?q=chemodanovka&units=imperial&appid=0647cca2482a23061e848734de3bd290\n",
      "http://api.openweathermap.org/data/2.5/weather?q=bathsheba&units=imperial&appid=0647cca2482a23061e848734de3bd290\n",
      "http://api.openweathermap.org/data/2.5/weather?q=san jose&units=imperial&appid=0647cca2482a23061e848734de3bd290\n",
      "http://api.openweathermap.org/data/2.5/weather?q=zlotow&units=imperial&appid=0647cca2482a23061e848734de3bd290\n",
      "Got data for city index: 455 of 612\n",
      "http://api.openweathermap.org/data/2.5/weather?q=pata&units=imperial&appid=0647cca2482a23061e848734de3bd290\n",
      "http://api.openweathermap.org/data/2.5/weather?q=calais&units=imperial&appid=0647cca2482a23061e848734de3bd290\n",
      "http://api.openweathermap.org/data/2.5/weather?q=havoysund&units=imperial&appid=0647cca2482a23061e848734de3bd290\n",
      "http://api.openweathermap.org/data/2.5/weather?q=ndjole&units=imperial&appid=0647cca2482a23061e848734de3bd290\n",
      "http://api.openweathermap.org/data/2.5/weather?q=san carlos&units=imperial&appid=0647cca2482a23061e848734de3bd290\n",
      "Got data for city index: 460 of 612\n",
      "http://api.openweathermap.org/data/2.5/weather?q=constitucion&units=imperial&appid=0647cca2482a23061e848734de3bd290\n",
      "http://api.openweathermap.org/data/2.5/weather?q=gulshat&units=imperial&appid=0647cca2482a23061e848734de3bd290\n",
      "Missing data in OpenWeatherAPI for gulshat\n",
      "http://api.openweathermap.org/data/2.5/weather?q=hirara&units=imperial&appid=0647cca2482a23061e848734de3bd290\n",
      "http://api.openweathermap.org/data/2.5/weather?q=dzhusaly&units=imperial&appid=0647cca2482a23061e848734de3bd290\n",
      "Missing data in OpenWeatherAPI for dzhusaly\n",
      "http://api.openweathermap.org/data/2.5/weather?q=moanda&units=imperial&appid=0647cca2482a23061e848734de3bd290\n",
      "Got data for city index: 465 of 612\n",
      "http://api.openweathermap.org/data/2.5/weather?q=rawson&units=imperial&appid=0647cca2482a23061e848734de3bd290\n",
      "http://api.openweathermap.org/data/2.5/weather?q=luna&units=imperial&appid=0647cca2482a23061e848734de3bd290\n",
      "http://api.openweathermap.org/data/2.5/weather?q=vesyegonsk&units=imperial&appid=0647cca2482a23061e848734de3bd290\n"
     ]
    },
    {
     "name": "stdout",
     "output_type": "stream",
     "text": [
      "http://api.openweathermap.org/data/2.5/weather?q=geraldton&units=imperial&appid=0647cca2482a23061e848734de3bd290\n",
      "http://api.openweathermap.org/data/2.5/weather?q=biggar&units=imperial&appid=0647cca2482a23061e848734de3bd290\n",
      "Got data for city index: 470 of 612\n",
      "http://api.openweathermap.org/data/2.5/weather?q=santa fe&units=imperial&appid=0647cca2482a23061e848734de3bd290\n",
      "http://api.openweathermap.org/data/2.5/weather?q=bogalusa&units=imperial&appid=0647cca2482a23061e848734de3bd290\n",
      "http://api.openweathermap.org/data/2.5/weather?q=sabang&units=imperial&appid=0647cca2482a23061e848734de3bd290\n",
      "http://api.openweathermap.org/data/2.5/weather?q=hofn&units=imperial&appid=0647cca2482a23061e848734de3bd290\n",
      "http://api.openweathermap.org/data/2.5/weather?q=westport&units=imperial&appid=0647cca2482a23061e848734de3bd290\n",
      "Got data for city index: 475 of 612\n",
      "http://api.openweathermap.org/data/2.5/weather?q=port blair&units=imperial&appid=0647cca2482a23061e848734de3bd290\n",
      "http://api.openweathermap.org/data/2.5/weather?q=pak phanang&units=imperial&appid=0647cca2482a23061e848734de3bd290\n",
      "http://api.openweathermap.org/data/2.5/weather?q=tricase&units=imperial&appid=0647cca2482a23061e848734de3bd290\n",
      "http://api.openweathermap.org/data/2.5/weather?q=okoneshnikovo&units=imperial&appid=0647cca2482a23061e848734de3bd290\n",
      "http://api.openweathermap.org/data/2.5/weather?q=saint-georges&units=imperial&appid=0647cca2482a23061e848734de3bd290\n",
      "Got data for city index: 480 of 612\n",
      "http://api.openweathermap.org/data/2.5/weather?q=karwar&units=imperial&appid=0647cca2482a23061e848734de3bd290\n",
      "http://api.openweathermap.org/data/2.5/weather?q=uige&units=imperial&appid=0647cca2482a23061e848734de3bd290\n",
      "http://api.openweathermap.org/data/2.5/weather?q=kabale&units=imperial&appid=0647cca2482a23061e848734de3bd290\n",
      "http://api.openweathermap.org/data/2.5/weather?q=ust-kamchatsk&units=imperial&appid=0647cca2482a23061e848734de3bd290\n",
      "Missing data in OpenWeatherAPI for ust-kamchatsk\n",
      "http://api.openweathermap.org/data/2.5/weather?q=coruripe&units=imperial&appid=0647cca2482a23061e848734de3bd290\n",
      "Got data for city index: 485 of 612\n",
      "http://api.openweathermap.org/data/2.5/weather?q=yablonovo&units=imperial&appid=0647cca2482a23061e848734de3bd290\n",
      "http://api.openweathermap.org/data/2.5/weather?q=tres arroyos&units=imperial&appid=0647cca2482a23061e848734de3bd290\n",
      "http://api.openweathermap.org/data/2.5/weather?q=airai&units=imperial&appid=0647cca2482a23061e848734de3bd290\n",
      "http://api.openweathermap.org/data/2.5/weather?q=isangel&units=imperial&appid=0647cca2482a23061e848734de3bd290\n",
      "http://api.openweathermap.org/data/2.5/weather?q=shieli&units=imperial&appid=0647cca2482a23061e848734de3bd290\n",
      "Got data for city index: 490 of 612\n",
      "http://api.openweathermap.org/data/2.5/weather?q=motygino&units=imperial&appid=0647cca2482a23061e848734de3bd290\n",
      "http://api.openweathermap.org/data/2.5/weather?q=skalistyy&units=imperial&appid=0647cca2482a23061e848734de3bd290\n",
      "Missing data in OpenWeatherAPI for skalistyy\n",
      "http://api.openweathermap.org/data/2.5/weather?q=beringovskiy&units=imperial&appid=0647cca2482a23061e848734de3bd290\n",
      "http://api.openweathermap.org/data/2.5/weather?q=san pancrazio salentino&units=imperial&appid=0647cca2482a23061e848734de3bd290\n",
      "http://api.openweathermap.org/data/2.5/weather?q=darhan&units=imperial&appid=0647cca2482a23061e848734de3bd290\n",
      "Got data for city index: 495 of 612\n",
      "http://api.openweathermap.org/data/2.5/weather?q=jalu&units=imperial&appid=0647cca2482a23061e848734de3bd290\n",
      "http://api.openweathermap.org/data/2.5/weather?q=tautira&units=imperial&appid=0647cca2482a23061e848734de3bd290\n",
      "http://api.openweathermap.org/data/2.5/weather?q=tommot&units=imperial&appid=0647cca2482a23061e848734de3bd290\n",
      "http://api.openweathermap.org/data/2.5/weather?q=lavrentiya&units=imperial&appid=0647cca2482a23061e848734de3bd290\n",
      "http://api.openweathermap.org/data/2.5/weather?q=salgueiro&units=imperial&appid=0647cca2482a23061e848734de3bd290\n",
      "Got data for city index: 500 of 612\n",
      "http://api.openweathermap.org/data/2.5/weather?q=portland&units=imperial&appid=0647cca2482a23061e848734de3bd290\n",
      "http://api.openweathermap.org/data/2.5/weather?q=eureka&units=imperial&appid=0647cca2482a23061e848734de3bd290\n",
      "http://api.openweathermap.org/data/2.5/weather?q=pangkalanbuun&units=imperial&appid=0647cca2482a23061e848734de3bd290\n",
      "http://api.openweathermap.org/data/2.5/weather?q=honningsvag&units=imperial&appid=0647cca2482a23061e848734de3bd290\n",
      "http://api.openweathermap.org/data/2.5/weather?q=hunza&units=imperial&appid=0647cca2482a23061e848734de3bd290\n",
      "Missing data in OpenWeatherAPI for hunza\n",
      "Got data for city index: 505 of 612\n",
      "http://api.openweathermap.org/data/2.5/weather?q=stonewall&units=imperial&appid=0647cca2482a23061e848734de3bd290\n",
      "http://api.openweathermap.org/data/2.5/weather?q=krasnovishersk&units=imperial&appid=0647cca2482a23061e848734de3bd290\n",
      "http://api.openweathermap.org/data/2.5/weather?q=synya&units=imperial&appid=0647cca2482a23061e848734de3bd290\n",
      "http://api.openweathermap.org/data/2.5/weather?q=iquique&units=imperial&appid=0647cca2482a23061e848734de3bd290\n",
      "http://api.openweathermap.org/data/2.5/weather?q=kupang&units=imperial&appid=0647cca2482a23061e848734de3bd290\n",
      "Got data for city index: 510 of 612\n",
      "http://api.openweathermap.org/data/2.5/weather?q=rolim de moura&units=imperial&appid=0647cca2482a23061e848734de3bd290\n",
      "Missing data in OpenWeatherAPI for rolim de moura\n",
      "http://api.openweathermap.org/data/2.5/weather?q=verkh-usugli&units=imperial&appid=0647cca2482a23061e848734de3bd290\n",
      "http://api.openweathermap.org/data/2.5/weather?q=phan thiet&units=imperial&appid=0647cca2482a23061e848734de3bd290\n",
      "http://api.openweathermap.org/data/2.5/weather?q=excelsior springs&units=imperial&appid=0647cca2482a23061e848734de3bd290\n",
      "http://api.openweathermap.org/data/2.5/weather?q=ketchikan&units=imperial&appid=0647cca2482a23061e848734de3bd290\n",
      "Got data for city index: 515 of 612\n",
      "http://api.openweathermap.org/data/2.5/weather?q=flinders&units=imperial&appid=0647cca2482a23061e848734de3bd290\n",
      "http://api.openweathermap.org/data/2.5/weather?q=raudeberg&units=imperial&appid=0647cca2482a23061e848734de3bd290\n",
      "http://api.openweathermap.org/data/2.5/weather?q=yulara&units=imperial&appid=0647cca2482a23061e848734de3bd290\n",
      "http://api.openweathermap.org/data/2.5/weather?q=abu kamal&units=imperial&appid=0647cca2482a23061e848734de3bd290\n",
      "http://api.openweathermap.org/data/2.5/weather?q=sinjah&units=imperial&appid=0647cca2482a23061e848734de3bd290\n",
      "Missing data in OpenWeatherAPI for sinjah\n",
      "Got data for city index: 520 of 612\n",
      "http://api.openweathermap.org/data/2.5/weather?q=tawkar&units=imperial&appid=0647cca2482a23061e848734de3bd290\n",
      "Missing data in OpenWeatherAPI for tawkar\n",
      "http://api.openweathermap.org/data/2.5/weather?q=tibiao&units=imperial&appid=0647cca2482a23061e848734de3bd290\n",
      "http://api.openweathermap.org/data/2.5/weather?q=olmos&units=imperial&appid=0647cca2482a23061e848734de3bd290\n",
      "http://api.openweathermap.org/data/2.5/weather?q=berbera&units=imperial&appid=0647cca2482a23061e848734de3bd290\n",
      "http://api.openweathermap.org/data/2.5/weather?q=jatiroto&units=imperial&appid=0647cca2482a23061e848734de3bd290\n",
      "Got data for city index: 525 of 612\n",
      "http://api.openweathermap.org/data/2.5/weather?q=xiaoweizhai&units=imperial&appid=0647cca2482a23061e848734de3bd290\n",
      "http://api.openweathermap.org/data/2.5/weather?q=yaan&units=imperial&appid=0647cca2482a23061e848734de3bd290\n",
      "http://api.openweathermap.org/data/2.5/weather?q=stokmarknes&units=imperial&appid=0647cca2482a23061e848734de3bd290\n",
      "http://api.openweathermap.org/data/2.5/weather?q=piro&units=imperial&appid=0647cca2482a23061e848734de3bd290\n",
      "http://api.openweathermap.org/data/2.5/weather?q=ha tinh&units=imperial&appid=0647cca2482a23061e848734de3bd290\n",
      "Got data for city index: 530 of 612\n",
      "http://api.openweathermap.org/data/2.5/weather?q=ambilobe&units=imperial&appid=0647cca2482a23061e848734de3bd290\n",
      "http://api.openweathermap.org/data/2.5/weather?q=kurilsk&units=imperial&appid=0647cca2482a23061e848734de3bd290\n",
      "http://api.openweathermap.org/data/2.5/weather?q=pithora&units=imperial&appid=0647cca2482a23061e848734de3bd290\n",
      "http://api.openweathermap.org/data/2.5/weather?q=tarakan&units=imperial&appid=0647cca2482a23061e848734de3bd290\n",
      "http://api.openweathermap.org/data/2.5/weather?q=biak&units=imperial&appid=0647cca2482a23061e848734de3bd290\n",
      "Got data for city index: 535 of 612\n"
     ]
    },
    {
     "name": "stdout",
     "output_type": "stream",
     "text": [
      "http://api.openweathermap.org/data/2.5/weather?q=hovd&units=imperial&appid=0647cca2482a23061e848734de3bd290\n",
      "http://api.openweathermap.org/data/2.5/weather?q=nancha&units=imperial&appid=0647cca2482a23061e848734de3bd290\n",
      "http://api.openweathermap.org/data/2.5/weather?q=brae&units=imperial&appid=0647cca2482a23061e848734de3bd290\n",
      "http://api.openweathermap.org/data/2.5/weather?q=tabory&units=imperial&appid=0647cca2482a23061e848734de3bd290\n",
      "http://api.openweathermap.org/data/2.5/weather?q=krasnoselkup&units=imperial&appid=0647cca2482a23061e848734de3bd290\n",
      "Got data for city index: 540 of 612\n",
      "http://api.openweathermap.org/data/2.5/weather?q=virden&units=imperial&appid=0647cca2482a23061e848734de3bd290\n",
      "http://api.openweathermap.org/data/2.5/weather?q=hihifo&units=imperial&appid=0647cca2482a23061e848734de3bd290\n",
      "Missing data in OpenWeatherAPI for hihifo\n",
      "http://api.openweathermap.org/data/2.5/weather?q=bonavista&units=imperial&appid=0647cca2482a23061e848734de3bd290\n",
      "http://api.openweathermap.org/data/2.5/weather?q=juan lacaze&units=imperial&appid=0647cca2482a23061e848734de3bd290\n",
      "http://api.openweathermap.org/data/2.5/weather?q=vao&units=imperial&appid=0647cca2482a23061e848734de3bd290\n",
      "Got data for city index: 545 of 612\n",
      "http://api.openweathermap.org/data/2.5/weather?q=barberton&units=imperial&appid=0647cca2482a23061e848734de3bd290\n",
      "http://api.openweathermap.org/data/2.5/weather?q=mbandaka&units=imperial&appid=0647cca2482a23061e848734de3bd290\n",
      "http://api.openweathermap.org/data/2.5/weather?q=ardakan&units=imperial&appid=0647cca2482a23061e848734de3bd290\n",
      "http://api.openweathermap.org/data/2.5/weather?q=custoias&units=imperial&appid=0647cca2482a23061e848734de3bd290\n",
      "http://api.openweathermap.org/data/2.5/weather?q=mount isa&units=imperial&appid=0647cca2482a23061e848734de3bd290\n",
      "Got data for city index: 550 of 612\n",
      "http://api.openweathermap.org/data/2.5/weather?q=basco&units=imperial&appid=0647cca2482a23061e848734de3bd290\n",
      "http://api.openweathermap.org/data/2.5/weather?q=olutanga&units=imperial&appid=0647cca2482a23061e848734de3bd290\n",
      "http://api.openweathermap.org/data/2.5/weather?q=vanavara&units=imperial&appid=0647cca2482a23061e848734de3bd290\n",
      "http://api.openweathermap.org/data/2.5/weather?q=havelock&units=imperial&appid=0647cca2482a23061e848734de3bd290\n",
      "http://api.openweathermap.org/data/2.5/weather?q=hambantota&units=imperial&appid=0647cca2482a23061e848734de3bd290\n",
      "Got data for city index: 555 of 612\n",
      "http://api.openweathermap.org/data/2.5/weather?q=abnub&units=imperial&appid=0647cca2482a23061e848734de3bd290\n",
      "http://api.openweathermap.org/data/2.5/weather?q=ouesso&units=imperial&appid=0647cca2482a23061e848734de3bd290\n",
      "http://api.openweathermap.org/data/2.5/weather?q=nome&units=imperial&appid=0647cca2482a23061e848734de3bd290\n",
      "http://api.openweathermap.org/data/2.5/weather?q=angarsk&units=imperial&appid=0647cca2482a23061e848734de3bd290\n",
      "http://api.openweathermap.org/data/2.5/weather?q=chapais&units=imperial&appid=0647cca2482a23061e848734de3bd290\n",
      "Got data for city index: 560 of 612\n",
      "http://api.openweathermap.org/data/2.5/weather?q=labuhan&units=imperial&appid=0647cca2482a23061e848734de3bd290\n",
      "http://api.openweathermap.org/data/2.5/weather?q=altamira&units=imperial&appid=0647cca2482a23061e848734de3bd290\n",
      "http://api.openweathermap.org/data/2.5/weather?q=xadani&units=imperial&appid=0647cca2482a23061e848734de3bd290\n",
      "Missing data in OpenWeatherAPI for xadani\n",
      "http://api.openweathermap.org/data/2.5/weather?q=srednekolymsk&units=imperial&appid=0647cca2482a23061e848734de3bd290\n",
      "http://api.openweathermap.org/data/2.5/weather?q=tiarei&units=imperial&appid=0647cca2482a23061e848734de3bd290\n",
      "Got data for city index: 565 of 612\n",
      "http://api.openweathermap.org/data/2.5/weather?q=mana&units=imperial&appid=0647cca2482a23061e848734de3bd290\n",
      "http://api.openweathermap.org/data/2.5/weather?q=coquimbo&units=imperial&appid=0647cca2482a23061e848734de3bd290\n",
      "http://api.openweathermap.org/data/2.5/weather?q=nouadhibou&units=imperial&appid=0647cca2482a23061e848734de3bd290\n",
      "http://api.openweathermap.org/data/2.5/weather?q=tocopilla&units=imperial&appid=0647cca2482a23061e848734de3bd290\n",
      "http://api.openweathermap.org/data/2.5/weather?q=lingao&units=imperial&appid=0647cca2482a23061e848734de3bd290\n",
      "Got data for city index: 570 of 612\n",
      "http://api.openweathermap.org/data/2.5/weather?q=asyut&units=imperial&appid=0647cca2482a23061e848734de3bd290\n",
      "http://api.openweathermap.org/data/2.5/weather?q=challapata&units=imperial&appid=0647cca2482a23061e848734de3bd290\n",
      "http://api.openweathermap.org/data/2.5/weather?q=yantal&units=imperial&appid=0647cca2482a23061e848734de3bd290\n",
      "http://api.openweathermap.org/data/2.5/weather?q=clifton&units=imperial&appid=0647cca2482a23061e848734de3bd290\n",
      "http://api.openweathermap.org/data/2.5/weather?q=dubbo&units=imperial&appid=0647cca2482a23061e848734de3bd290\n",
      "Got data for city index: 575 of 612\n",
      "http://api.openweathermap.org/data/2.5/weather?q=saint-augustin&units=imperial&appid=0647cca2482a23061e848734de3bd290\n",
      "http://api.openweathermap.org/data/2.5/weather?q=turukhansk&units=imperial&appid=0647cca2482a23061e848734de3bd290\n",
      "http://api.openweathermap.org/data/2.5/weather?q=puerto escondido&units=imperial&appid=0647cca2482a23061e848734de3bd290\n",
      "http://api.openweathermap.org/data/2.5/weather?q=nguiu&units=imperial&appid=0647cca2482a23061e848734de3bd290\n",
      "Missing data in OpenWeatherAPI for nguiu\n",
      "http://api.openweathermap.org/data/2.5/weather?q=beyneu&units=imperial&appid=0647cca2482a23061e848734de3bd290\n",
      "Got data for city index: 580 of 612\n",
      "http://api.openweathermap.org/data/2.5/weather?q=esna&units=imperial&appid=0647cca2482a23061e848734de3bd290\n",
      "http://api.openweathermap.org/data/2.5/weather?q=filadelfia&units=imperial&appid=0647cca2482a23061e848734de3bd290\n",
      "http://api.openweathermap.org/data/2.5/weather?q=kawalu&units=imperial&appid=0647cca2482a23061e848734de3bd290\n",
      "http://api.openweathermap.org/data/2.5/weather?q=bombay&units=imperial&appid=0647cca2482a23061e848734de3bd290\n",
      "http://api.openweathermap.org/data/2.5/weather?q=lloydminster&units=imperial&appid=0647cca2482a23061e848734de3bd290\n",
      "Got data for city index: 585 of 612\n",
      "http://api.openweathermap.org/data/2.5/weather?q=inta&units=imperial&appid=0647cca2482a23061e848734de3bd290\n",
      "http://api.openweathermap.org/data/2.5/weather?q=smithers&units=imperial&appid=0647cca2482a23061e848734de3bd290\n",
      "http://api.openweathermap.org/data/2.5/weather?q=ksenyevka&units=imperial&appid=0647cca2482a23061e848734de3bd290\n",
      "Missing data in OpenWeatherAPI for ksenyevka\n",
      "http://api.openweathermap.org/data/2.5/weather?q=acu&units=imperial&appid=0647cca2482a23061e848734de3bd290\n",
      "http://api.openweathermap.org/data/2.5/weather?q=calvinia&units=imperial&appid=0647cca2482a23061e848734de3bd290\n",
      "Got data for city index: 590 of 612\n",
      "http://api.openweathermap.org/data/2.5/weather?q=el badari&units=imperial&appid=0647cca2482a23061e848734de3bd290\n",
      "Missing data in OpenWeatherAPI for el badari\n",
      "http://api.openweathermap.org/data/2.5/weather?q=zambezi&units=imperial&appid=0647cca2482a23061e848734de3bd290\n",
      "http://api.openweathermap.org/data/2.5/weather?q=barcelos&units=imperial&appid=0647cca2482a23061e848734de3bd290\n",
      "http://api.openweathermap.org/data/2.5/weather?q=fukue&units=imperial&appid=0647cca2482a23061e848734de3bd290\n",
      "http://api.openweathermap.org/data/2.5/weather?q=uribia&units=imperial&appid=0647cca2482a23061e848734de3bd290\n",
      "Got data for city index: 595 of 612\n",
      "http://api.openweathermap.org/data/2.5/weather?q=peniche&units=imperial&appid=0647cca2482a23061e848734de3bd290\n",
      "http://api.openweathermap.org/data/2.5/weather?q=goundam&units=imperial&appid=0647cca2482a23061e848734de3bd290\n",
      "http://api.openweathermap.org/data/2.5/weather?q=bonfim&units=imperial&appid=0647cca2482a23061e848734de3bd290\n",
      "http://api.openweathermap.org/data/2.5/weather?q=constantine&units=imperial&appid=0647cca2482a23061e848734de3bd290\n",
      "http://api.openweathermap.org/data/2.5/weather?q=madanapalle&units=imperial&appid=0647cca2482a23061e848734de3bd290\n",
      "Got data for city index: 600 of 612\n",
      "http://api.openweathermap.org/data/2.5/weather?q=grants&units=imperial&appid=0647cca2482a23061e848734de3bd290\n",
      "http://api.openweathermap.org/data/2.5/weather?q=buin&units=imperial&appid=0647cca2482a23061e848734de3bd290\n",
      "http://api.openweathermap.org/data/2.5/weather?q=san javier&units=imperial&appid=0647cca2482a23061e848734de3bd290\n"
     ]
    },
    {
     "name": "stdout",
     "output_type": "stream",
     "text": [
      "http://api.openweathermap.org/data/2.5/weather?q=kadnikov&units=imperial&appid=0647cca2482a23061e848734de3bd290\n",
      "http://api.openweathermap.org/data/2.5/weather?q=port hedland&units=imperial&appid=0647cca2482a23061e848734de3bd290\n",
      "Got data for city index: 605 of 612\n",
      "http://api.openweathermap.org/data/2.5/weather?q=bontang&units=imperial&appid=0647cca2482a23061e848734de3bd290\n",
      "http://api.openweathermap.org/data/2.5/weather?q=mangai&units=imperial&appid=0647cca2482a23061e848734de3bd290\n",
      "http://api.openweathermap.org/data/2.5/weather?q=katsuura&units=imperial&appid=0647cca2482a23061e848734de3bd290\n",
      "http://api.openweathermap.org/data/2.5/weather?q=mawlaik&units=imperial&appid=0647cca2482a23061e848734de3bd290\n",
      "http://api.openweathermap.org/data/2.5/weather?q=potlogi&units=imperial&appid=0647cca2482a23061e848734de3bd290\n",
      "Got data for city index: 610 of 612\n",
      "http://api.openweathermap.org/data/2.5/weather?q=hualmay&units=imperial&appid=0647cca2482a23061e848734de3bd290\n"
     ]
    },
    {
     "data": {
      "text/html": [
       "<div>\n",
       "<style scoped>\n",
       "    .dataframe tbody tr th:only-of-type {\n",
       "        vertical-align: middle;\n",
       "    }\n",
       "\n",
       "    .dataframe tbody tr th {\n",
       "        vertical-align: top;\n",
       "    }\n",
       "\n",
       "    .dataframe thead th {\n",
       "        text-align: right;\n",
       "    }\n",
       "</style>\n",
       "<table border=\"1\" class=\"dataframe\">\n",
       "  <thead>\n",
       "    <tr style=\"text-align: right;\">\n",
       "      <th></th>\n",
       "      <th>Longitude</th>\n",
       "      <th>Latitude</th>\n",
       "      <th>City</th>\n",
       "      <th>Temperature</th>\n",
       "      <th>Feels Like</th>\n",
       "      <th>Humidity</th>\n",
       "      <th>Pressure</th>\n",
       "      <th>Wind Speed</th>\n",
       "      <th>Cloudiness</th>\n",
       "    </tr>\n",
       "  </thead>\n",
       "  <tbody>\n",
       "    <tr>\n",
       "      <th>0</th>\n",
       "      <td>19.23</td>\n",
       "      <td>-34.42</td>\n",
       "      <td>Hermanus</td>\n",
       "      <td>53.01</td>\n",
       "      <td>50.38</td>\n",
       "      <td>70</td>\n",
       "      <td>1026</td>\n",
       "      <td>1.99</td>\n",
       "      <td>1</td>\n",
       "    </tr>\n",
       "    <tr>\n",
       "      <th>1</th>\n",
       "      <td>-56.15</td>\n",
       "      <td>72.79</td>\n",
       "      <td>Upernavik</td>\n",
       "      <td>-5.73</td>\n",
       "      <td>-19.05</td>\n",
       "      <td>79</td>\n",
       "      <td>1004</td>\n",
       "      <td>11.81</td>\n",
       "      <td>0</td>\n",
       "    </tr>\n",
       "    <tr>\n",
       "      <th>2</th>\n",
       "      <td>23.05</td>\n",
       "      <td>-34.04</td>\n",
       "      <td>Knysna</td>\n",
       "      <td>53.60</td>\n",
       "      <td>47.34</td>\n",
       "      <td>81</td>\n",
       "      <td>1025</td>\n",
       "      <td>10.29</td>\n",
       "      <td>75</td>\n",
       "    </tr>\n",
       "    <tr>\n",
       "      <th>3</th>\n",
       "      <td>46.03</td>\n",
       "      <td>-18.77</td>\n",
       "      <td>Tsiroanomandidy</td>\n",
       "      <td>75.18</td>\n",
       "      <td>69.87</td>\n",
       "      <td>40</td>\n",
       "      <td>1019</td>\n",
       "      <td>9.19</td>\n",
       "      <td>95</td>\n",
       "    </tr>\n",
       "    <tr>\n",
       "      <th>4</th>\n",
       "      <td>-155.09</td>\n",
       "      <td>19.73</td>\n",
       "      <td>Hilo</td>\n",
       "      <td>71.94</td>\n",
       "      <td>76.05</td>\n",
       "      <td>88</td>\n",
       "      <td>1016</td>\n",
       "      <td>4.70</td>\n",
       "      <td>90</td>\n",
       "    </tr>\n",
       "    <tr>\n",
       "      <th>5</th>\n",
       "      <td>-139.03</td>\n",
       "      <td>-9.80</td>\n",
       "      <td>Atuona</td>\n",
       "      <td>77.61</td>\n",
       "      <td>76.12</td>\n",
       "      <td>66</td>\n",
       "      <td>1013</td>\n",
       "      <td>12.30</td>\n",
       "      <td>51</td>\n",
       "    </tr>\n",
       "    <tr>\n",
       "      <th>6</th>\n",
       "      <td>166.22</td>\n",
       "      <td>-21.62</td>\n",
       "      <td>Thio</td>\n",
       "      <td>78.80</td>\n",
       "      <td>69.21</td>\n",
       "      <td>50</td>\n",
       "      <td>1013</td>\n",
       "      <td>21.92</td>\n",
       "      <td>52</td>\n",
       "    </tr>\n",
       "    <tr>\n",
       "      <th>7</th>\n",
       "      <td>-52.73</td>\n",
       "      <td>47.67</td>\n",
       "      <td>Torbay</td>\n",
       "      <td>31.98</td>\n",
       "      <td>22.30</td>\n",
       "      <td>74</td>\n",
       "      <td>1024</td>\n",
       "      <td>9.17</td>\n",
       "      <td>20</td>\n",
       "    </tr>\n",
       "    <tr>\n",
       "      <th>8</th>\n",
       "      <td>-73.97</td>\n",
       "      <td>42.60</td>\n",
       "      <td>Albany</td>\n",
       "      <td>45.54</td>\n",
       "      <td>43.34</td>\n",
       "      <td>100</td>\n",
       "      <td>1028</td>\n",
       "      <td>2.06</td>\n",
       "      <td>1</td>\n",
       "    </tr>\n",
       "    <tr>\n",
       "      <th>9</th>\n",
       "      <td>-70.92</td>\n",
       "      <td>-53.15</td>\n",
       "      <td>Punta Arenas</td>\n",
       "      <td>41.00</td>\n",
       "      <td>30.13</td>\n",
       "      <td>80</td>\n",
       "      <td>1014</td>\n",
       "      <td>13.87</td>\n",
       "      <td>0</td>\n",
       "    </tr>\n",
       "  </tbody>\n",
       "</table>\n",
       "</div>"
      ],
      "text/plain": [
       "   Longitude  Latitude             City  Temperature  Feels Like  Humidity  \\\n",
       "0      19.23    -34.42         Hermanus        53.01       50.38        70   \n",
       "1     -56.15     72.79        Upernavik        -5.73      -19.05        79   \n",
       "2      23.05    -34.04           Knysna        53.60       47.34        81   \n",
       "3      46.03    -18.77  Tsiroanomandidy        75.18       69.87        40   \n",
       "4    -155.09     19.73             Hilo        71.94       76.05        88   \n",
       "5    -139.03     -9.80           Atuona        77.61       76.12        66   \n",
       "6     166.22    -21.62             Thio        78.80       69.21        50   \n",
       "7     -52.73     47.67           Torbay        31.98       22.30        74   \n",
       "8     -73.97     42.60           Albany        45.54       43.34       100   \n",
       "9     -70.92    -53.15     Punta Arenas        41.00       30.13        80   \n",
       "\n",
       "   Pressure  Wind Speed  Cloudiness  \n",
       "0      1026        1.99           1  \n",
       "1      1004       11.81           0  \n",
       "2      1025       10.29          75  \n",
       "3      1019        9.19          95  \n",
       "4      1016        4.70          90  \n",
       "5      1013       12.30          51  \n",
       "6      1013       21.92          52  \n",
       "7      1024        9.17          20  \n",
       "8      1028        2.06           1  \n",
       "9      1014       13.87           0  "
      ]
     },
     "execution_count": 5,
     "metadata": {},
     "output_type": "execute_result"
    }
   ],
   "source": [
    "#init lists to hold parsed data\n",
    "lats = []\n",
    "longs = []\n",
    "temps = []\n",
    "feel_likes = []\n",
    "humids = []\n",
    "pressures = []\n",
    "speeds = []\n",
    "cities_found = []\n",
    "cloudiness = []\n",
    "\n",
    "for i in range (len(cities)):\n",
    "    city = cities[i]\n",
    "    \n",
    "    #create the url\n",
    "    units = \"imperial\"\n",
    "    url = f\"http://api.openweathermap.org/data/2.5/weather?q={city}&units={units}&appid={weather_api_key}\"\n",
    "    print(url)\n",
    "\n",
    "    #make the request\n",
    "    response = requests.get(url)\n",
    "    # print(response.status_code)\n",
    "    \n",
    "    #error check\n",
    "    if response.status_code == 200:\n",
    "        data = response.json()\n",
    "        #pprint(data)\n",
    "        try:    \n",
    "            #extract the data\n",
    "            lat = data[\"coord\"][\"lat\"]\n",
    "            long = data[\"coord\"][\"lon\"]\n",
    "            temp = data[\"main\"][\"temp\"]\n",
    "            feels_like = data[\"main\"][\"feels_like\"]\n",
    "            humidity = data[\"main\"][\"humidity\"]\n",
    "            pressure = data[\"main\"][\"pressure\"]\n",
    "            speed = data[\"wind\"][\"speed\"]\n",
    "            city_name = data[\"name\"]\n",
    "            clouds = data[\"clouds\"][\"all\"]\n",
    "\n",
    "            #save the data\n",
    "            lats.append(lat)\n",
    "            longs.append(long)\n",
    "            temps.append(temp)\n",
    "            feel_likes.append(feels_like)\n",
    "            humids.append(humidity)\n",
    "            pressures.append(pressure)\n",
    "            speeds.append(speed)\n",
    "            cloudiness.append(clouds)\n",
    "            cities_found.append(city_name)\n",
    "        except Exception as e:\n",
    "            print(f\"Through exception for city {city}: {e}\")\n",
    "\n",
    "    elif response.status_code == 404:\n",
    "        print(f\"Missing data in OpenWeatherAPI for {city}\")\n",
    "    else:\n",
    "        print(response.status_code)\n",
    "        print(\"Oh gosh darnit. The API is broken. Sad Face.\")\n",
    "        \n",
    "    if (i % 5 == 0):\n",
    "        print(f\"Got data for city index: {i} of {len(cities)}\")\n",
    "    \n",
    "        \n",
    "    time.sleep(2)\n",
    "        \n",
    "# make the dataframe\n",
    "df = pd.DataFrame()\n",
    "df[\"Longitude\"] = longs\n",
    "df[\"Latitude\"] = lats\n",
    "df[\"City\"] = cities_found\n",
    "df[\"Temperature\"] = temps\n",
    "df[\"Feels Like\"] = feel_likes\n",
    "df[\"Humidity\"] = humids\n",
    "df[\"Pressure\"] = pressures\n",
    "df[\"Wind Speed\"] = speeds\n",
    "df[\"Cloudiness\"] = cloudiness\n",
    "\n",
    "df.head(10)\n"
   ]
  },
  {
   "cell_type": "markdown",
   "metadata": {},
   "source": [
    "### Convert Raw Data to DataFrame\n",
    "* Export the city data into a .csv.\n",
    "* Display the DataFrame"
   ]
  },
  {
   "cell_type": "code",
   "execution_count": 7,
   "metadata": {},
   "outputs": [],
   "source": [
    "df.to_csv('new_file.csv', index = False)\n",
    "\n",
    "df = pd.read_csv('new_file.csv')"
   ]
  },
  {
   "cell_type": "code",
   "execution_count": 8,
   "metadata": {
    "scrolled": true
   },
   "outputs": [
    {
     "data": {
      "text/html": [
       "<div>\n",
       "<style scoped>\n",
       "    .dataframe tbody tr th:only-of-type {\n",
       "        vertical-align: middle;\n",
       "    }\n",
       "\n",
       "    .dataframe tbody tr th {\n",
       "        vertical-align: top;\n",
       "    }\n",
       "\n",
       "    .dataframe thead th {\n",
       "        text-align: right;\n",
       "    }\n",
       "</style>\n",
       "<table border=\"1\" class=\"dataframe\">\n",
       "  <thead>\n",
       "    <tr style=\"text-align: right;\">\n",
       "      <th></th>\n",
       "      <th>Longitude</th>\n",
       "      <th>Latitude</th>\n",
       "      <th>Temperature</th>\n",
       "      <th>Feels Like</th>\n",
       "      <th>Humidity</th>\n",
       "      <th>Pressure</th>\n",
       "      <th>Wind Speed</th>\n",
       "      <th>Cloudiness</th>\n",
       "    </tr>\n",
       "  </thead>\n",
       "  <tbody>\n",
       "    <tr>\n",
       "      <th>count</th>\n",
       "      <td>564.000000</td>\n",
       "      <td>564.000000</td>\n",
       "      <td>564.000000</td>\n",
       "      <td>564.000000</td>\n",
       "      <td>564.000000</td>\n",
       "      <td>564.000000</td>\n",
       "      <td>564.000000</td>\n",
       "      <td>564.000000</td>\n",
       "    </tr>\n",
       "    <tr>\n",
       "      <th>mean</th>\n",
       "      <td>20.046135</td>\n",
       "      <td>20.067943</td>\n",
       "      <td>56.923440</td>\n",
       "      <td>53.117447</td>\n",
       "      <td>73.929078</td>\n",
       "      <td>1014.219858</td>\n",
       "      <td>8.473617</td>\n",
       "      <td>51.099291</td>\n",
       "    </tr>\n",
       "    <tr>\n",
       "      <th>std</th>\n",
       "      <td>89.067099</td>\n",
       "      <td>33.862514</td>\n",
       "      <td>23.183693</td>\n",
       "      <td>28.161146</td>\n",
       "      <td>20.574915</td>\n",
       "      <td>9.145434</td>\n",
       "      <td>6.378307</td>\n",
       "      <td>39.655856</td>\n",
       "    </tr>\n",
       "    <tr>\n",
       "      <th>min</th>\n",
       "      <td>-179.170000</td>\n",
       "      <td>-54.800000</td>\n",
       "      <td>-14.890000</td>\n",
       "      <td>-23.300000</td>\n",
       "      <td>7.000000</td>\n",
       "      <td>973.000000</td>\n",
       "      <td>0.360000</td>\n",
       "      <td>0.000000</td>\n",
       "    </tr>\n",
       "    <tr>\n",
       "      <th>25%</th>\n",
       "      <td>-55.402500</td>\n",
       "      <td>-8.082500</td>\n",
       "      <td>40.815000</td>\n",
       "      <td>31.845000</td>\n",
       "      <td>64.000000</td>\n",
       "      <td>1011.000000</td>\n",
       "      <td>3.505000</td>\n",
       "      <td>3.750000</td>\n",
       "    </tr>\n",
       "    <tr>\n",
       "      <th>50%</th>\n",
       "      <td>25.365000</td>\n",
       "      <td>22.905000</td>\n",
       "      <td>60.800000</td>\n",
       "      <td>56.840000</td>\n",
       "      <td>78.000000</td>\n",
       "      <td>1015.000000</td>\n",
       "      <td>6.930000</td>\n",
       "      <td>58.000000</td>\n",
       "    </tr>\n",
       "    <tr>\n",
       "      <th>75%</th>\n",
       "      <td>99.922500</td>\n",
       "      <td>50.685000</td>\n",
       "      <td>76.000000</td>\n",
       "      <td>76.597500</td>\n",
       "      <td>90.000000</td>\n",
       "      <td>1020.000000</td>\n",
       "      <td>11.410000</td>\n",
       "      <td>90.000000</td>\n",
       "    </tr>\n",
       "    <tr>\n",
       "      <th>max</th>\n",
       "      <td>179.320000</td>\n",
       "      <td>78.220000</td>\n",
       "      <td>104.000000</td>\n",
       "      <td>104.000000</td>\n",
       "      <td>100.000000</td>\n",
       "      <td>1039.000000</td>\n",
       "      <td>42.260000</td>\n",
       "      <td>100.000000</td>\n",
       "    </tr>\n",
       "  </tbody>\n",
       "</table>\n",
       "</div>"
      ],
      "text/plain": [
       "        Longitude    Latitude  Temperature  Feels Like    Humidity  \\\n",
       "count  564.000000  564.000000   564.000000  564.000000  564.000000   \n",
       "mean    20.046135   20.067943    56.923440   53.117447   73.929078   \n",
       "std     89.067099   33.862514    23.183693   28.161146   20.574915   \n",
       "min   -179.170000  -54.800000   -14.890000  -23.300000    7.000000   \n",
       "25%    -55.402500   -8.082500    40.815000   31.845000   64.000000   \n",
       "50%     25.365000   22.905000    60.800000   56.840000   78.000000   \n",
       "75%     99.922500   50.685000    76.000000   76.597500   90.000000   \n",
       "max    179.320000   78.220000   104.000000  104.000000  100.000000   \n",
       "\n",
       "          Pressure  Wind Speed  Cloudiness  \n",
       "count   564.000000  564.000000  564.000000  \n",
       "mean   1014.219858    8.473617   51.099291  \n",
       "std       9.145434    6.378307   39.655856  \n",
       "min     973.000000    0.360000    0.000000  \n",
       "25%    1011.000000    3.505000    3.750000  \n",
       "50%    1015.000000    6.930000   58.000000  \n",
       "75%    1020.000000   11.410000   90.000000  \n",
       "max    1039.000000   42.260000  100.000000  "
      ]
     },
     "execution_count": 8,
     "metadata": {},
     "output_type": "execute_result"
    }
   ],
   "source": [
    "df.describe()"
   ]
  },
  {
   "cell_type": "markdown",
   "metadata": {},
   "source": [
    "## Inspect the data and remove the cities where the humidity > 100%.\n",
    "----\n",
    "Skip this step if there are no cities that have humidity > 100%. "
   ]
  },
  {
   "cell_type": "code",
   "execution_count": 9,
   "metadata": {},
   "outputs": [
    {
     "data": {
      "text/html": [
       "<div>\n",
       "<style scoped>\n",
       "    .dataframe tbody tr th:only-of-type {\n",
       "        vertical-align: middle;\n",
       "    }\n",
       "\n",
       "    .dataframe tbody tr th {\n",
       "        vertical-align: top;\n",
       "    }\n",
       "\n",
       "    .dataframe thead th {\n",
       "        text-align: right;\n",
       "    }\n",
       "</style>\n",
       "<table border=\"1\" class=\"dataframe\">\n",
       "  <thead>\n",
       "    <tr style=\"text-align: right;\">\n",
       "      <th></th>\n",
       "      <th>Longitude</th>\n",
       "      <th>Latitude</th>\n",
       "      <th>Temperature</th>\n",
       "      <th>Feels Like</th>\n",
       "      <th>Humidity</th>\n",
       "      <th>Pressure</th>\n",
       "      <th>Wind Speed</th>\n",
       "      <th>Cloudiness</th>\n",
       "    </tr>\n",
       "  </thead>\n",
       "  <tbody>\n",
       "    <tr>\n",
       "      <th>count</th>\n",
       "      <td>564.000000</td>\n",
       "      <td>564.000000</td>\n",
       "      <td>564.000000</td>\n",
       "      <td>564.000000</td>\n",
       "      <td>564.000000</td>\n",
       "      <td>564.000000</td>\n",
       "      <td>564.000000</td>\n",
       "      <td>564.000000</td>\n",
       "    </tr>\n",
       "    <tr>\n",
       "      <th>mean</th>\n",
       "      <td>20.046135</td>\n",
       "      <td>20.067943</td>\n",
       "      <td>56.923440</td>\n",
       "      <td>53.117447</td>\n",
       "      <td>73.929078</td>\n",
       "      <td>1014.219858</td>\n",
       "      <td>8.473617</td>\n",
       "      <td>51.099291</td>\n",
       "    </tr>\n",
       "    <tr>\n",
       "      <th>std</th>\n",
       "      <td>89.067099</td>\n",
       "      <td>33.862514</td>\n",
       "      <td>23.183693</td>\n",
       "      <td>28.161146</td>\n",
       "      <td>20.574915</td>\n",
       "      <td>9.145434</td>\n",
       "      <td>6.378307</td>\n",
       "      <td>39.655856</td>\n",
       "    </tr>\n",
       "    <tr>\n",
       "      <th>min</th>\n",
       "      <td>-179.170000</td>\n",
       "      <td>-54.800000</td>\n",
       "      <td>-14.890000</td>\n",
       "      <td>-23.300000</td>\n",
       "      <td>7.000000</td>\n",
       "      <td>973.000000</td>\n",
       "      <td>0.360000</td>\n",
       "      <td>0.000000</td>\n",
       "    </tr>\n",
       "    <tr>\n",
       "      <th>25%</th>\n",
       "      <td>-55.402500</td>\n",
       "      <td>-8.082500</td>\n",
       "      <td>40.815000</td>\n",
       "      <td>31.845000</td>\n",
       "      <td>64.000000</td>\n",
       "      <td>1011.000000</td>\n",
       "      <td>3.505000</td>\n",
       "      <td>3.750000</td>\n",
       "    </tr>\n",
       "    <tr>\n",
       "      <th>50%</th>\n",
       "      <td>25.365000</td>\n",
       "      <td>22.905000</td>\n",
       "      <td>60.800000</td>\n",
       "      <td>56.840000</td>\n",
       "      <td>78.000000</td>\n",
       "      <td>1015.000000</td>\n",
       "      <td>6.930000</td>\n",
       "      <td>58.000000</td>\n",
       "    </tr>\n",
       "    <tr>\n",
       "      <th>75%</th>\n",
       "      <td>99.922500</td>\n",
       "      <td>50.685000</td>\n",
       "      <td>76.000000</td>\n",
       "      <td>76.597500</td>\n",
       "      <td>90.000000</td>\n",
       "      <td>1020.000000</td>\n",
       "      <td>11.410000</td>\n",
       "      <td>90.000000</td>\n",
       "    </tr>\n",
       "    <tr>\n",
       "      <th>max</th>\n",
       "      <td>179.320000</td>\n",
       "      <td>78.220000</td>\n",
       "      <td>104.000000</td>\n",
       "      <td>104.000000</td>\n",
       "      <td>100.000000</td>\n",
       "      <td>1039.000000</td>\n",
       "      <td>42.260000</td>\n",
       "      <td>100.000000</td>\n",
       "    </tr>\n",
       "  </tbody>\n",
       "</table>\n",
       "</div>"
      ],
      "text/plain": [
       "        Longitude    Latitude  Temperature  Feels Like    Humidity  \\\n",
       "count  564.000000  564.000000   564.000000  564.000000  564.000000   \n",
       "mean    20.046135   20.067943    56.923440   53.117447   73.929078   \n",
       "std     89.067099   33.862514    23.183693   28.161146   20.574915   \n",
       "min   -179.170000  -54.800000   -14.890000  -23.300000    7.000000   \n",
       "25%    -55.402500   -8.082500    40.815000   31.845000   64.000000   \n",
       "50%     25.365000   22.905000    60.800000   56.840000   78.000000   \n",
       "75%     99.922500   50.685000    76.000000   76.597500   90.000000   \n",
       "max    179.320000   78.220000   104.000000  104.000000  100.000000   \n",
       "\n",
       "          Pressure  Wind Speed  Cloudiness  \n",
       "count   564.000000  564.000000  564.000000  \n",
       "mean   1014.219858    8.473617   51.099291  \n",
       "std       9.145434    6.378307   39.655856  \n",
       "min     973.000000    0.360000    0.000000  \n",
       "25%    1011.000000    3.505000    3.750000  \n",
       "50%    1015.000000    6.930000   58.000000  \n",
       "75%    1020.000000   11.410000   90.000000  \n",
       "max    1039.000000   42.260000  100.000000  "
      ]
     },
     "execution_count": 9,
     "metadata": {},
     "output_type": "execute_result"
    }
   ],
   "source": [
    "df.describe()"
   ]
  },
  {
   "cell_type": "code",
   "execution_count": 10,
   "metadata": {},
   "outputs": [],
   "source": [
    "#  Get the indices of cities that have humidity over 100%.\n"
   ]
  },
  {
   "cell_type": "code",
   "execution_count": 11,
   "metadata": {},
   "outputs": [],
   "source": [
    "# Make a new DataFrame equal to the city data to drop all humidity outliers by index.\n",
    "# Passing \"inplace=False\" will make a copy of the city_data DataFrame, which we call \"clean_city_data\".\n"
   ]
  },
  {
   "cell_type": "code",
   "execution_count": null,
   "metadata": {},
   "outputs": [],
   "source": []
  },
  {
   "cell_type": "markdown",
   "metadata": {},
   "source": [
    "## Plotting the Data\n",
    "* Use proper labeling of the plots using plot titles (including date of analysis) and axes labels.\n",
    "* Save the plotted figures as .pngs."
   ]
  },
  {
   "cell_type": "markdown",
   "metadata": {},
   "source": [
    "## Latitude vs. Temperature Plot"
   ]
  },
  {
   "cell_type": "code",
   "execution_count": 12,
   "metadata": {
    "scrolled": true
   },
   "outputs": [
    {
     "data": {
      "image/png": "[encoded data removed]",
      "text/plain": [
       "<Figure size 720x432 with 1 Axes>"
      ]
     },
     "metadata": {
      "needs_background": "light"
     },
     "output_type": "display_data"
    }
   ],
   "source": [
    "plt.figure(figsize = (10,6))\n",
    "\n",
    "plt.scatter(df[\"Latitude\"], df[\"Temperature\"], color = \"blue\")\n",
    "plt.title(\"City Latitude vs. Max Temperature (04/01/20)\", fontsize = 18, fontweight = \"bold\")\n",
    "plt.ylabel(\"Max Temperature (F)\")\n",
    "\n",
    "plt.show()"
   ]
  },
  {
   "cell_type": "markdown",
   "metadata": {},
   "source": [
    "## Latitude vs. Humidity Plot"
   ]
  },
  {
   "cell_type": "code",
   "execution_count": 13,
   "metadata": {},
   "outputs": [
    {
     "data": {
      "image/png": "[encoded data removed]",
      "text/plain": [
       "<Figure size 720x432 with 1 Axes>"
      ]
     },
     "metadata": {
      "needs_background": "light"
     },
     "output_type": "display_data"
    }
   ],
   "source": [
    "plt.figure(figsize = (10,6))\n",
    "\n",
    "plt.scatter(df[\"Latitude\"], df[\"Humidity\"], color = \"blue\")\n",
    "plt.title(\"City Latitude vs. Humidity (04/01/20)\", fontsize = 18, fontweight = \"bold\")\n",
    "plt.ylabel(\"Humidity (%)\")\n",
    "\n",
    "plt.show()\n",
    "\n",
    "plt.savefig('latitude_vs_humidity.png')"
   ]
  },
  {
   "cell_type": "markdown",
   "metadata": {},
   "source": [
    "## Latitude vs. Cloudiness Plot"
   ]
  },
  {
   "cell_type": "code",
   "execution_count": 46,
   "metadata": {},
   "outputs": [
    {
     "data": {
      "image/png": "[encoded data removed]",
      "text/plain": [
       "<Figure size 720x432 with 1 Axes>"
      ]
     },
     "metadata": {
      "needs_background": "light"
     },
     "output_type": "display_data"
    },
    {
     "data": {
      "text/plain": [
       "<Figure size 432x288 with 0 Axes>"
      ]
     },
     "metadata": {},
     "output_type": "display_data"
    }
   ],
   "source": [
    "plt.figure(figsize = (10,6))\n",
    "\n",
    "plt.scatter(df[\"Latitude\"], df[\"Cloudiness\"], color = \"blue\")\n",
    "plt.title(\"City Latitude vs. Cloudiness (04/01/20)\", fontsize = 18, fontweight = \"bold\")\n",
    "plt.ylabel(\"Cloudiness (%)\")\n",
    "\n",
    "plt.show()\n",
    "\n",
    "plt.savefig('latitude_vs_cloudiness.png')"
   ]
  },
  {
   "cell_type": "markdown",
   "metadata": {},
   "source": [
    "## Latitude vs. Wind Speed Plot"
   ]
  },
  {
   "cell_type": "code",
   "execution_count": 47,
   "metadata": {},
   "outputs": [
    {
     "data": {
      "image/png": "[encoded data removed]",
      "text/plain": [
       "<Figure size 720x432 with 1 Axes>"
      ]
     },
     "metadata": {
      "needs_background": "light"
     },
     "output_type": "display_data"
    },
    {
     "data": {
      "text/plain": [
       "<Figure size 432x288 with 0 Axes>"
      ]
     },
     "metadata": {},
     "output_type": "display_data"
    }
   ],
   "source": [
    "plt.figure(figsize = (10,6))\n",
    "\n",
    "plt.scatter(df[\"Latitude\"], df[\"Wind Speed\"], color = \"blue\")\n",
    "plt.title(\"City Latitude vs. Wind Speed (04/01/20)\", fontsize = 18, fontweight = \"bold\")\n",
    "plt.ylabel(\"Wind Speed (mph)\")\n",
    "\n",
    "plt.show()\n",
    "\n",
    "plt.savefig('latitude_vs_windspeed.png')"
   ]
  },
  {
   "cell_type": "code",
   "execution_count": null,
   "metadata": {},
   "outputs": [],
   "source": []
  },
  {
   "cell_type": "markdown",
   "metadata": {},
   "source": [
    "## Linear Regression"
   ]
  },
  {
   "cell_type": "code",
   "execution_count": 16,
   "metadata": {},
   "outputs": [],
   "source": [
    "north_df = df[df['Latitude'] > 0]"
   ]
  },
  {
   "cell_type": "code",
   "execution_count": 17,
   "metadata": {},
   "outputs": [
    {
     "data": {
      "text/plain": [
       "(-0.8762433159825163, 1.6938110794963524e-123)"
      ]
     },
     "execution_count": 17,
     "metadata": {},
     "output_type": "execute_result"
    }
   ],
   "source": [
    "sts.pearsonr(north_df[\"Latitude\"], north_df[\"Temperature\"])"
   ]
  },
  {
   "cell_type": "code",
   "execution_count": 18,
   "metadata": {},
   "outputs": [],
   "source": [
    "feature = north_df[\"Latitude\"]\n",
    "target = north_df[\"Temperature\"]"
   ]
  },
  {
   "cell_type": "markdown",
   "metadata": {},
   "source": [
    "####  Northern Hemisphere - Max Temp vs. Latitude Linear Regression"
   ]
  },
  {
   "cell_type": "code",
   "execution_count": 50,
   "metadata": {},
   "outputs": [
    {
     "name": "stdout",
     "output_type": "stream",
     "text": [
      "y = 0.08x + 5.61\n",
      "The r-squared is: 0.05329897451164845\n"
     ]
    },
    {
     "data": {
      "image/png": "[encoded data removed]",
      "text/plain": [
       "<Figure size 720x432 with 1 Axes>"
      ]
     },
     "metadata": {
      "needs_background": "light"
     },
     "output_type": "display_data"
    },
    {
     "data": {
      "text/plain": [
       "<Figure size 432x288 with 0 Axes>"
      ]
     },
     "metadata": {},
     "output_type": "display_data"
    }
   ],
   "source": [
    "(slope, intercept, rvalue, pvalue, stderr) = sts.linregress(feature, target)\n",
    "regress_values = feature * slope + intercept\n",
    "line_eq = \"y = \" + str(round(slope,2)) + \"x + \" + str(round(intercept,2))\n",
    "print(line_eq)\n",
    "print(f\"The r-squared is: {rvalue**2}\")\n",
    "\n",
    "plt.figure(figsize=(10,6))\n",
    "\n",
    "plt.scatter(feature, target, color = \"firebrick\")\n",
    "plt.title(\"Northern Hemisphere - Max Temp vs. Latitude\", fontsize=18, fontweight=\"bold\", fontname = \"Lucida Calligraphy\")\n",
    "plt.xlabel(\"Latitude)\")\n",
    "plt.ylabel(\"Max Temp\")\n",
    "plt.plot(feature, regress_values, color=\"black\")\n",
    "plt.annotate(line_eq,(22,36),fontsize=15,color=\"red\")\n",
    "\n",
    "plt.show()\n",
    "\n",
    "plt.savefig('north_temp_vs_lat.png')\n"
   ]
  },
  {
   "cell_type": "markdown",
   "metadata": {},
   "source": [
    "####  Southern Hemisphere - Max Temp vs. Latitude Linear Regression"
   ]
  },
  {
   "cell_type": "code",
   "execution_count": 20,
   "metadata": {},
   "outputs": [
    {
     "data": {
      "text/plain": [
       "(0.5266776680403293, 3.653608099342398e-14)"
      ]
     },
     "execution_count": 20,
     "metadata": {},
     "output_type": "execute_result"
    }
   ],
   "source": [
    "south_df = df[df['Latitude'] < 0]\n",
    "\n",
    "sts.pearsonr(south_df[\"Latitude\"], south_df[\"Temperature\"])"
   ]
  },
  {
   "cell_type": "code",
   "execution_count": 21,
   "metadata": {},
   "outputs": [],
   "source": [
    "feature = south_df[\"Latitude\"]\n",
    "target = south_df[\"Temperature\"]"
   ]
  },
  {
   "cell_type": "code",
   "execution_count": 49,
   "metadata": {},
   "outputs": [
    {
     "name": "stdout",
     "output_type": "stream",
     "text": [
      "y = 0.08x + 5.61\n",
      "The r-squared is: 0.05329897451164845\n"
     ]
    },
    {
     "data": {
      "image/png": "[encoded data removed]",
      "text/plain": [
       "<Figure size 720x432 with 1 Axes>"
      ]
     },
     "metadata": {
      "needs_background": "light"
     },
     "output_type": "display_data"
    },
    {
     "data": {
      "text/plain": [
       "<Figure size 432x288 with 0 Axes>"
      ]
     },
     "metadata": {},
     "output_type": "display_data"
    }
   ],
   "source": [
    "(slope, intercept, rvalue, pvalue, stderr) = sts.linregress(feature, target)\n",
    "regress_values = feature * slope + intercept\n",
    "line_eq = \"y = \" + str(round(slope,2)) + \"x + \" + str(round(intercept,2))\n",
    "print(line_eq)\n",
    "print(f\"The r-squared is: {rvalue**2}\")\n",
    "\n",
    "plt.figure(figsize=(10,6))\n",
    "\n",
    "plt.scatter(feature, target, color = \"firebrick\")\n",
    "plt.title(\"Southern Hemisphere - Max Temp vs. Latitude\", fontsize=18, fontweight=\"bold\", fontname = \"Lucida Calligraphy\")\n",
    "plt.xlabel(\"Latitude)\")\n",
    "plt.ylabel(\"Max Temp\")\n",
    "plt.plot(feature, regress_values, color=\"blue\")\n",
    "plt.annotate(line_eq,(22,36),fontsize=15,color=\"red\")\n",
    "\n",
    "plt.show()\n",
    "\n",
    "plt.savefig('south_temp_vs_lat.png')"
   ]
  },
  {
   "cell_type": "markdown",
   "metadata": {},
   "source": [
    "####  Northern Hemisphere - Humidity (%) vs. Latitude Linear Regression"
   ]
  },
  {
   "cell_type": "code",
   "execution_count": 23,
   "metadata": {},
   "outputs": [],
   "source": [
    "north_df = df[df['Latitude'] > 0]"
   ]
  },
  {
   "cell_type": "code",
   "execution_count": 24,
   "metadata": {},
   "outputs": [
    {
     "data": {
      "text/plain": [
       "(0.34666310275056816, 2.5948439831538107e-12)"
      ]
     },
     "execution_count": 24,
     "metadata": {},
     "output_type": "execute_result"
    }
   ],
   "source": [
    "sts.pearsonr(north_df[\"Latitude\"], north_df[\"Humidity\"])"
   ]
  },
  {
   "cell_type": "code",
   "execution_count": 25,
   "metadata": {},
   "outputs": [],
   "source": [
    "feature = north_df[\"Latitude\"]\n",
    "target = north_df[\"Humidity\"]"
   ]
  },
  {
   "cell_type": "code",
   "execution_count": 51,
   "metadata": {},
   "outputs": [
    {
     "name": "stdout",
     "output_type": "stream",
     "text": [
      "y = 0.08x + 5.61\n",
      "The r-squared is: 0.05329897451164845\n"
     ]
    },
    {
     "data": {
      "image/png": "[encoded data removed]",
      "text/plain": [
       "<Figure size 720x432 with 1 Axes>"
      ]
     },
     "metadata": {
      "needs_background": "light"
     },
     "output_type": "display_data"
    },
    {
     "data": {
      "text/plain": [
       "<Figure size 432x288 with 0 Axes>"
      ]
     },
     "metadata": {},
     "output_type": "display_data"
    }
   ],
   "source": [
    "(slope, intercept, rvalue, pvalue, stderr) = sts.linregress(feature, target)\n",
    "regress_values = feature * slope + intercept\n",
    "line_eq = \"y = \" + str(round(slope,2)) + \"x + \" + str(round(intercept,2))\n",
    "print(line_eq)\n",
    "print(f\"The r-squared is: {rvalue**2}\")\n",
    "\n",
    "plt.figure(figsize=(10,6))\n",
    "\n",
    "plt.scatter(feature, target, color = \"firebrick\")\n",
    "plt.title(\"Northern Hemisphere - Humidity (%) vs. Latitude\", fontsize=18, fontweight=\"bold\", fontname = \"Lucida Calligraphy\")\n",
    "plt.xlabel(\"Latitude)\")\n",
    "plt.ylabel(\"Humidity (%)\")\n",
    "plt.plot(feature, regress_values, color=\"blue\")\n",
    "plt.annotate(line_eq,(22,36),fontsize=15,color=\"red\")\n",
    "\n",
    "plt.show()\n",
    "\n",
    "plt.savefig('north_hum_vs_lat.png')"
   ]
  },
  {
   "cell_type": "markdown",
   "metadata": {},
   "source": [
    "####  Southern Hemisphere - Humidity (%) vs. Latitude Linear Regression"
   ]
  },
  {
   "cell_type": "code",
   "execution_count": 27,
   "metadata": {},
   "outputs": [
    {
     "data": {
      "text/plain": [
       "(0.12061834638225823, 0.10776174076170221)"
      ]
     },
     "execution_count": 27,
     "metadata": {},
     "output_type": "execute_result"
    }
   ],
   "source": [
    "south_df = df[df['Latitude'] < 0]\n",
    "\n",
    "sts.pearsonr(south_df[\"Latitude\"], south_df[\"Humidity\"])"
   ]
  },
  {
   "cell_type": "code",
   "execution_count": 28,
   "metadata": {},
   "outputs": [],
   "source": [
    "feature = south_df[\"Latitude\"]\n",
    "target = south_df[\"Humidity\"]"
   ]
  },
  {
   "cell_type": "code",
   "execution_count": 53,
   "metadata": {},
   "outputs": [
    {
     "name": "stdout",
     "output_type": "stream",
     "text": [
      "y = 0.08x + 5.61\n",
      "The r-squared is: 0.05329897451164845\n"
     ]
    },
    {
     "data": {
      "image/png": "[encoded data removed]",
      "text/plain": [
       "<Figure size 720x432 with 1 Axes>"
      ]
     },
     "metadata": {
      "needs_background": "light"
     },
     "output_type": "display_data"
    },
    {
     "data": {
      "text/plain": [
       "<Figure size 432x288 with 0 Axes>"
      ]
     },
     "metadata": {},
     "output_type": "display_data"
    }
   ],
   "source": [
    "(slope, intercept, rvalue, pvalue, stderr) = sts.linregress(feature, target)\n",
    "regress_values = feature * slope + intercept\n",
    "line_eq = \"y = \" + str(round(slope,2)) + \"x + \" + str(round(intercept,2))\n",
    "print(line_eq)\n",
    "print(f\"The r-squared is: {rvalue**2}\")\n",
    "\n",
    "plt.figure(figsize=(10,6))\n",
    "\n",
    "plt.scatter(feature, target, color = \"firebrick\")\n",
    "plt.title(\"Southern Hemisphere - Humidity (%) vs. Latitude\", fontsize=18, fontweight=\"bold\", fontname = \"Lucida Calligraphy\")\n",
    "plt.xlabel(\"Latitude)\")\n",
    "plt.ylabel(\"Humidity (%)\")\n",
    "plt.plot(feature, regress_values, color=\"blue\")\n",
    "plt.annotate(line_eq,(22,36),fontsize=15,color=\"red\")\n",
    "\n",
    "plt.show()\n",
    "\n",
    "plt.savefig('south_hum_vs_lat.png')"
   ]
  },
  {
   "cell_type": "markdown",
   "metadata": {},
   "source": [
    "####  Northern Hemisphere - Cloudiness (%) vs. Latitude Linear Regression"
   ]
  },
  {
   "cell_type": "code",
   "execution_count": 30,
   "metadata": {},
   "outputs": [],
   "source": [
    "north_df = df[df['Latitude'] > 0]"
   ]
  },
  {
   "cell_type": "code",
   "execution_count": 31,
   "metadata": {},
   "outputs": [
    {
     "data": {
      "text/plain": [
       "(0.26311118838358066, 1.619661262454753e-07)"
      ]
     },
     "execution_count": 31,
     "metadata": {},
     "output_type": "execute_result"
    }
   ],
   "source": [
    "sts.pearsonr(north_df[\"Latitude\"], north_df[\"Cloudiness\"])"
   ]
  },
  {
   "cell_type": "code",
   "execution_count": 32,
   "metadata": {},
   "outputs": [],
   "source": [
    "feature = north_df[\"Latitude\"]\n",
    "target = north_df[\"Cloudiness\"]"
   ]
  },
  {
   "cell_type": "code",
   "execution_count": 33,
   "metadata": {},
   "outputs": [
    {
     "name": "stdout",
     "output_type": "stream",
     "text": [
      "y = 0.53x + 28.34\n",
      "The r-squared is: 0.06922749745262011\n"
     ]
    },
    {
     "data": {
      "image/png": "[encoded data removed]",
      "text/plain": [
       "<Figure size 720x432 with 1 Axes>"
      ]
     },
     "metadata": {
      "needs_background": "light"
     },
     "output_type": "display_data"
    }
   ],
   "source": [
    "(slope, intercept, rvalue, pvalue, stderr) = sts.linregress(feature, target)\n",
    "regress_values = feature * slope + intercept\n",
    "line_eq = \"y = \" + str(round(slope,2)) + \"x + \" + str(round(intercept,2))\n",
    "print(line_eq)\n",
    "print(f\"The r-squared is: {rvalue**2}\")\n",
    "\n",
    "plt.figure(figsize=(10,6))\n",
    "\n",
    "plt.scatter(feature, target, color = \"firebrick\")\n",
    "plt.title(\"Northern Hemisphere - Cloudiness (%) vs. Latitude\", fontsize=18, fontweight=\"bold\", fontname = \"Lucida Calligraphy\")\n",
    "plt.xlabel(\"Latitude)\")\n",
    "plt.ylabel(\"Cloudiness (%)\")\n",
    "plt.plot(feature, regress_values, color=\"blue\")\n",
    "plt.annotate(line_eq,(22,36),fontsize=15,color=\"red\")\n",
    "\n",
    "plt.show()\n",
    "\n",
    "plt.savefig('north_cloud_vs_lat')"
   ]
  },
  {
   "cell_type": "markdown",
   "metadata": {},
   "source": [
    "####  Southern Hemisphere - Cloudiness (%) vs. Latitude Linear Regression"
   ]
  },
  {
   "cell_type": "code",
   "execution_count": 34,
   "metadata": {},
   "outputs": [
    {
     "data": {
      "text/plain": [
       "(0.08046224326837707, 0.2843013257302335)"
      ]
     },
     "execution_count": 34,
     "metadata": {},
     "output_type": "execute_result"
    }
   ],
   "source": [
    "south_df = df[df['Latitude'] < 0]\n",
    "\n",
    "sts.pearsonr(south_df[\"Latitude\"], south_df[\"Cloudiness\"])"
   ]
  },
  {
   "cell_type": "code",
   "execution_count": 35,
   "metadata": {},
   "outputs": [],
   "source": [
    "feature = south_df[\"Latitude\"]\n",
    "target = south_df[\"Cloudiness\"]"
   ]
  },
  {
   "cell_type": "code",
   "execution_count": 36,
   "metadata": {},
   "outputs": [
    {
     "name": "stdout",
     "output_type": "stream",
     "text": [
      "y = 0.22x + 59.9\n",
      "The r-squared is: 0.006474172591779498\n"
     ]
    },
    {
     "data": {
      "image/png": "[encoded data removed]",
      "text/plain": [
       "<Figure size 720x432 with 1 Axes>"
      ]
     },
     "metadata": {
      "needs_background": "light"
     },
     "output_type": "display_data"
    }
   ],
   "source": [
    "(slope, intercept, rvalue, pvalue, stderr) = sts.linregress(feature, target)\n",
    "regress_values = feature * slope + intercept\n",
    "line_eq = \"y = \" + str(round(slope,2)) + \"x + \" + str(round(intercept,2))\n",
    "print(line_eq)\n",
    "print(f\"The r-squared is: {rvalue**2}\")\n",
    "\n",
    "plt.figure(figsize=(10,6))\n",
    "\n",
    "plt.scatter(feature, target, color = \"firebrick\")\n",
    "plt.title(\"Southern Hemisphere - Cloudiness (%) vs. Latitude\", fontsize=18, fontweight=\"bold\", fontname = \"Lucida Calligraphy\")\n",
    "plt.xlabel(\"Latitude)\")\n",
    "plt.ylabel(\"Cloudiness (%)\")\n",
    "plt.plot(feature, regress_values, color=\"blue\")\n",
    "plt.annotate(line_eq,(22,36),fontsize=15,color=\"red\")\n",
    "\n",
    "plt.show()"
   ]
  },
  {
   "cell_type": "markdown",
   "metadata": {},
   "source": [
    "####  Northern Hemisphere - Wind Speed (mph) vs. Latitude Linear Regression"
   ]
  },
  {
   "cell_type": "code",
   "execution_count": 37,
   "metadata": {},
   "outputs": [],
   "source": [
    "north_df = df[df['Latitude'] > 0]"
   ]
  },
  {
   "cell_type": "code",
   "execution_count": 38,
   "metadata": {},
   "outputs": [
    {
     "data": {
      "text/plain": [
       "(-0.19709461581733556, 0.00818204932264889)"
      ]
     },
     "execution_count": 38,
     "metadata": {},
     "output_type": "execute_result"
    }
   ],
   "source": [
    "sts.pearsonr(south_df[\"Latitude\"], south_df[\"Wind Speed\"])"
   ]
  },
  {
   "cell_type": "code",
   "execution_count": 39,
   "metadata": {},
   "outputs": [],
   "source": [
    "feature = south_df[\"Latitude\"]\n",
    "target = south_df[\"Wind Speed\"]"
   ]
  },
  {
   "cell_type": "code",
   "execution_count": 40,
   "metadata": {},
   "outputs": [
    {
     "name": "stdout",
     "output_type": "stream",
     "text": [
      "y = -0.08x + 6.41\n",
      "The r-squared is: 0.038846287584183056\n"
     ]
    },
    {
     "data": {
      "image/png": "[encoded data removed]",
      "text/plain": [
       "<Figure size 720x432 with 1 Axes>"
      ]
     },
     "metadata": {
      "needs_background": "light"
     },
     "output_type": "display_data"
    }
   ],
   "source": [
    "(slope, intercept, rvalue, pvalue, stderr) = sts.linregress(feature, target)\n",
    "regress_values = feature * slope + intercept\n",
    "line_eq = \"y = \" + str(round(slope,2)) + \"x + \" + str(round(intercept,2))\n",
    "print(line_eq)\n",
    "print(f\"The r-squared is: {rvalue**2}\")\n",
    "\n",
    "plt.figure(figsize=(10,6))\n",
    "\n",
    "plt.scatter(feature, target, color = \"firebrick\")\n",
    "plt.title(\"Northern Hemisphere - Wind Speed (mph) vs. Latitude\", fontsize=18, fontweight=\"bold\", fontname = \"Lucida Calligraphy\")\n",
    "plt.xlabel(\"Latitude)\")\n",
    "plt.ylabel(\"Wind Speed (mph)\")\n",
    "plt.plot(feature, regress_values, color=\"blue\")\n",
    "plt.annotate(line_eq,(22,36),fontsize=15,color=\"red\")\n",
    "\n",
    "plt.show()"
   ]
  },
  {
   "cell_type": "code",
   "execution_count": null,
   "metadata": {},
   "outputs": [],
   "source": []
  },
  {
   "cell_type": "markdown",
   "metadata": {},
   "source": [
    "####  Southern Hemisphere - Wind Speed (mph) vs. Latitude Linear Regression"
   ]
  },
  {
   "cell_type": "code",
   "execution_count": 41,
   "metadata": {},
   "outputs": [
    {
     "data": {
      "text/plain": [
       "(-0.19709461581733556, 0.00818204932264889)"
      ]
     },
     "execution_count": 41,
     "metadata": {},
     "output_type": "execute_result"
    }
   ],
   "source": [
    "south_df = df[df['Latitude'] < 0]\n",
    "\n",
    "sts.pearsonr(south_df[\"Latitude\"], south_df[\"Wind Speed\"])"
   ]
  },
  {
   "cell_type": "code",
   "execution_count": 42,
   "metadata": {},
   "outputs": [],
   "source": [
    "feature = north_df[\"Latitude\"]\n",
    "target = north_df[\"Wind Speed\"]"
   ]
  },
  {
   "cell_type": "code",
   "execution_count": 43,
   "metadata": {},
   "outputs": [
    {
     "name": "stdout",
     "output_type": "stream",
     "text": [
      "y = 0.08x + 5.61\n",
      "The r-squared is: 0.05329897451164845\n"
     ]
    },
    {
     "data": {
      "image/png": "[encoded data removed]",
      "text/plain": [
       "<Figure size 720x432 with 1 Axes>"
      ]
     },
     "metadata": {
      "needs_background": "light"
     },
     "output_type": "display_data"
    }
   ],
   "source": [
    "(slope, intercept, rvalue, pvalue, stderr) = sts.linregress(feature, target)\n",
    "regress_values = feature * slope + intercept\n",
    "line_eq = \"y = \" + str(round(slope,2)) + \"x + \" + str(round(intercept,2))\n",
    "print(line_eq)\n",
    "print(f\"The r-squared is: {rvalue**2}\")\n",
    "\n",
    "plt.figure(figsize=(10,6))\n",
    "\n",
    "plt.scatter(feature, target, color = \"firebrick\")\n",
    "plt.title(\"Southern Hemisphere - Wind Speed (mph) vs. Latitude\", fontsize=18, fontweight=\"bold\", fontname = \"Lucida Calligraphy\")\n",
    "plt.xlabel(\"Latitude)\")\n",
    "plt.ylabel(\"Wind Speed (mph)\")\n",
    "plt.plot(feature, regress_values, color=\"blue\")\n",
    "plt.annotate(line_eq,(22,36),fontsize=15,color=\"red\")\n",
    "\n",
    "plt.show()"
   ]
  },
  {
   "cell_type": "code",
   "execution_count": null,
   "metadata": {},
   "outputs": [],
   "source": []
  }
 ],
 "metadata": {
  "anaconda-cloud": {},
  "kernel_info": {
   "name": "python3"
  },
  "kernelspec": {
   "display_name": "Python 3",
   "language": "python",
   "name": "python3"
  },
  "language_info": {
   "codemirror_mode": {
    "name": "ipython",
    "version": 3
   },
   "file_extension": ".py",
   "mimetype": "text/x-python",
   "name": "python",
   "nbconvert_exporter": "python",
   "pygments_lexer": "ipython3",
   "version": "3.8.3"
  },
  "latex_envs": {
   "LaTeX_envs_menu_present": true,
   "autoclose": false,
   "autocomplete": true,
   "bibliofile": "biblio.bib",
   "cite_by": "apalike",
   "current_citInitial": 1,
   "eqLabelWithNumbers": true,
   "eqNumInitial": 1,
   "hotkeys": {
    "equation": "Ctrl-E",
    "itemize": "Ctrl-I"
   },
   "labels_anchors": false,
   "latex_user_defs": false,
   "report_style_numbering": false,
   "user_envs_cfg": false
  },
  "nteract": {
   "version": "0.12.3"
  }
 },
 "nbformat": 4,
 "nbformat_minor": 2
}
